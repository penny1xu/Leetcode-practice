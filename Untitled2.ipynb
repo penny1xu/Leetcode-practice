{
  "nbformat": 4,
  "nbformat_minor": 0,
  "metadata": {
    "colab": {
      "name": "Untitled2.ipynb",
      "provenance": [],
      "authorship_tag": "ABX9TyPSB13qwUAL1Q1bKokL2qpc",
      "include_colab_link": true
    },
    "kernelspec": {
      "name": "python3",
      "display_name": "Python 3"
    },
    "language_info": {
      "name": "python"
    }
  },
  "cells": [
    {
      "cell_type": "markdown",
      "metadata": {
        "id": "view-in-github",
        "colab_type": "text"
      },
      "source": [
        "<a href=\"https://colab.research.google.com/github/penny1xu/Leetcode-practice/blob/main/Untitled2.ipynb\" target=\"_parent\"><img src=\"https://colab.research.google.com/assets/colab-badge.svg\" alt=\"Open In Colab\"/></a>"
      ]
    },
    {
      "cell_type": "code",
      "execution_count": 6,
      "metadata": {
        "colab": {
          "base_uri": "https://localhost:8080/"
        },
        "id": "6bIUr22zJTal",
        "outputId": "96c253e2-1547-4234-e09c-c9823d18753c"
      },
      "outputs": [
        {
          "output_type": "stream",
          "name": "stdout",
          "text": [
            "('so', 'much')\n",
            "house shoe\n"
          ]
        }
      ],
      "source": [
        "#index\n",
        "x = 'house '+ 'shoe'\n",
        "s = [(\"lovd\",\"you\"),(\"so\",\"much\")]\n",
        "print(s[1])\n",
        "print(x)"
      ]
    },
    {
      "cell_type": "code",
      "source": [
        "#tuple\n",
        "z = (\"lovd\",\"you\") +(\"too\",)\n",
        "print(z)\n",
        "\n",
        "#list\n",
        "y = ['pig','kevin']+['house']\n",
        "print(y)"
      ],
      "metadata": {
        "colab": {
          "base_uri": "https://localhost:8080/"
        },
        "id": "pyAPxh1wL1fB",
        "outputId": "d83a1807-f34a-4ea7-bfba-3be973ab7ba8"
      },
      "execution_count": 12,
      "outputs": [
        {
          "output_type": "stream",
          "name": "stdout",
          "text": [
            "('lovd', 'you', 'too')\n",
            "['pig', 'kevin', 'house']\n"
          ]
        }
      ]
    },
    {
      "cell_type": "code",
      "source": [
        "#string\n",
        "x = 'bug'*3\n",
        "print(x)"
      ],
      "metadata": {
        "colab": {
          "base_uri": "https://localhost:8080/"
        },
        "id": "FIPDmOkAMk9B",
        "outputId": "a594e7ae-a779-442a-dbd5-2ad568a90353"
      },
      "execution_count": 13,
      "outputs": [
        {
          "output_type": "stream",
          "name": "stdout",
          "text": [
            "bugbugbug\n"
          ]
        }
      ]
    },
    {
      "cell_type": "code",
      "source": [
        "#boolean\n",
        "x = 'bug'\n",
        "print('u' in x)\n",
        "\n",
        "y =['pig','kevin']+['house']\n",
        "print('p' in y)\n",
        "print('house' in y)"
      ],
      "metadata": {
        "colab": {
          "base_uri": "https://localhost:8080/"
        },
        "id": "LqKOTKfKMtUm",
        "outputId": "35943011-61f1-4d88-a46e-48fc350612d3"
      },
      "execution_count": 18,
      "outputs": [
        {
          "output_type": "stream",
          "name": "stdout",
          "text": [
            "True\n",
            "False\n",
            "True\n"
          ]
        }
      ]
    },
    {
      "cell_type": "code",
      "source": [
        "#iteration\n",
        "\n",
        "x = [1,2,3]\n",
        "for item in x:\n",
        "  print(item)\n",
        "\n",
        "#enumerate return index and items\n",
        "for index,item in enumerate(x):\n",
        "  print(index,item)"
      ],
      "metadata": {
        "colab": {
          "base_uri": "https://localhost:8080/"
        },
        "id": "EbR88e62NIIk",
        "outputId": "0d49beff-ce0b-4f3f-ae09-3433a1e36d28"
      },
      "execution_count": 24,
      "outputs": [
        {
          "output_type": "stream",
          "name": "stdout",
          "text": [
            "1\n",
            "2\n",
            "3\n",
            "0 1\n",
            "1 2\n",
            "2 3\n"
          ]
        }
      ]
    },
    {
      "cell_type": "code",
      "source": [
        "# check length\n",
        "print(len(x))"
      ],
      "metadata": {
        "colab": {
          "base_uri": "https://localhost:8080/"
        },
        "id": "oQ3TSrkQOJ5z",
        "outputId": "85956aaa-d2f0-4401-c099-dee5df7d371e"
      },
      "execution_count": 25,
      "outputs": [
        {
          "output_type": "stream",
          "name": "stdout",
          "text": [
            "3\n"
          ]
        }
      ]
    },
    {
      "cell_type": "code",
      "source": [
        "#sort \n",
        "\n",
        "z = ('kevin','niklas','jenny','craig')\n",
        "print(sorted(z))\n",
        "# 第二个字母sorted\n",
        "print(sorted(z, key = lambda k:k[1]))"
      ],
      "metadata": {
        "colab": {
          "base_uri": "https://localhost:8080/"
        },
        "id": "JlIKzflmO4fK",
        "outputId": "6b190979-eaff-40ed-8cba-dce49fda0c2d"
      },
      "execution_count": 28,
      "outputs": [
        {
          "output_type": "stream",
          "name": "stdout",
          "text": [
            "['craig', 'jenny', 'kevin', 'niklas']\n",
            "['kevin', 'jenny', 'niklas', 'craig']\n"
          ]
        }
      ]
    },
    {
      "cell_type": "code",
      "source": [
        "#count（item)\n",
        "#string\n",
        "x = 'hippo'\n",
        "print(x.count('p'))\n",
        "\n",
        "#list\n",
        "y = ['pig','cow','horse','cow']\n",
        "print(y.count('cow'))\n",
        "\n",
        "#tuple\n",
        "z= ('Kevin', 'Niklas','Jenny')\n",
        "print(z.count('Kevin'))\n"
      ],
      "metadata": {
        "colab": {
          "base_uri": "https://localhost:8080/"
        },
        "id": "xkzPZxAoPVHD",
        "outputId": "0e01d2b5-4512-45a0-ff16-8f5bda73a485"
      },
      "execution_count": 33,
      "outputs": [
        {
          "output_type": "stream",
          "name": "stdout",
          "text": [
            "2\n",
            "2\n",
            "1\n"
          ]
        }
      ]
    },
    {
      "cell_type": "code",
      "source": [
        "# unpacking \n",
        "y = ['pig','cow','horse','cow']\n",
        "a,b,c,d = y\n",
        "print(a,b,d)\n"
      ],
      "metadata": {
        "colab": {
          "base_uri": "https://localhost:8080/"
        },
        "id": "8vMWg2xfQOQW",
        "outputId": "e0c39b55-07a0-447b-812a-0a0a37dd552e"
      },
      "execution_count": 37,
      "outputs": [
        {
          "output_type": "stream",
          "name": "stdout",
          "text": [
            "pig cow cow\n"
          ]
        }
      ]
    },
    {
      "cell_type": "code",
      "source": [
        "x = list()\n",
        "y = ['a',25,'dog',8.4]\n",
        "tuple = (10,20)\n",
        "z = list(tuple)\n",
        "\n",
        "print(z)"
      ],
      "metadata": {
        "colab": {
          "base_uri": "https://localhost:8080/"
        },
        "id": "-5dil81iS2nn",
        "outputId": "750fb872-1264-45fb-86f2-bf656be92d16"
      },
      "execution_count": 39,
      "outputs": [
        {
          "output_type": "stream",
          "name": "stdout",
          "text": [
            "[10, 20]\n"
          ]
        }
      ]
    }
  ]
}