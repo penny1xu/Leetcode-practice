{
  "nbformat": 4,
  "nbformat_minor": 0,
  "metadata": {
    "colab": {
      "name": "Two Sum",
      "provenance": [],
      "collapsed_sections": [],
      "authorship_tag": "ABX9TyPECWUXhnBQduOEpilQvNT7",
      "include_colab_link": true
    },
    "kernelspec": {
      "name": "python3",
      "display_name": "Python 3"
    },
    "language_info": {
      "name": "python"
    }
  },
  "cells": [
    {
      "cell_type": "markdown",
      "metadata": {
        "id": "view-in-github",
        "colab_type": "text"
      },
      "source": [
        "<a href=\"https://colab.research.google.com/github/penny1xu/Leetcode-practice/blob/main/Two_Sum.ipynb\" target=\"_parent\"><img src=\"https://colab.research.google.com/assets/colab-badge.svg\" alt=\"Open In Colab\"/></a>"
      ]
    },
    {
      "cell_type": "markdown",
      "source": [
        "**Two Sum Leetcode**"
      ],
      "metadata": {
        "id": "ej3gwZpR-rA1"
      }
    },
    {
      "cell_type": "code",
      "execution_count": 38,
      "metadata": {
        "id": "LeTbsYhf-pbg",
        "outputId": "fb384a5a-4f02-498f-a79a-4ab14ad66d0d",
        "colab": {
          "base_uri": "https://localhost:8080/"
        }
      },
      "outputs": [
        {
          "output_type": "stream",
          "name": "stdout",
          "text": [
            "0 2\n"
          ]
        }
      ],
      "source": [
        "nums = [2,8,7,15]\n",
        "target = 9\n",
        "def twoSum(nums, target):\n",
        "  for i in range(len(nums)-1):\n",
        "    for j in range(i+1,len(nums)-1):\n",
        "      if target - nums[i] == nums[j]:\n",
        "        print(i,j)\n",
        "        i+=1\n",
        "\n",
        "twoSum(nums, target)"
      ]
    }
  ]
}