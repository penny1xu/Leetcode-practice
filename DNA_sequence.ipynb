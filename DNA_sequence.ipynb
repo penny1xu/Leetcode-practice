{
  "nbformat": 4,
  "nbformat_minor": 0,
  "metadata": {
    "colab": {
      "name": "DNA_sequence.ipynb",
      "provenance": [],
      "collapsed_sections": [],
      "authorship_tag": "ABX9TyOo33tE11dQF8Vh+wkJRSHW",
      "include_colab_link": true
    },
    "kernelspec": {
      "name": "python3",
      "display_name": "Python 3"
    },
    "language_info": {
      "name": "python"
    }
  },
  "cells": [
    {
      "cell_type": "markdown",
      "metadata": {
        "id": "view-in-github",
        "colab_type": "text"
      },
      "source": [
        "<a href=\"https://colab.research.google.com/github/penny1xu/Leetcode-practice/blob/main/DNA_sequence.ipynb\" target=\"_parent\"><img src=\"https://colab.research.google.com/assets/colab-badge.svg\" alt=\"Open In Colab\"/></a>"
      ]
    },
    {
      "cell_type": "code",
      "execution_count": null,
      "metadata": {
        "colab": {
          "base_uri": "https://localhost:8080/"
        },
        "id": "BqtT29C86vag",
        "outputId": "eab7550d-dc95-4598-d76a-cfb0813519df"
      },
      "outputs": [
        {
          "output_type": "stream",
          "name": "stdout",
          "text": [
            "AAAAACCCCC\n",
            "CCCCCAAAAA\n"
          ]
        }
      ],
      "source": [
        "s = \"AAAAACCCCCAAAAACCCCCCAAAAAGGGTTT\"\n",
        "dic = {}\n",
        "for i in range(len(s)):\n",
        "  if s[i:i+10] not in dic:\n",
        "    dic[s[i:i+10]] = 1\n",
        "  else:\n",
        "     dic[s[i:i+10]] += 1\n",
        "for i in dic: #\"AAAAACCCCC\",\"AAAAACCCCC\"\n",
        "  if dic[i] > 1:\n",
        "    print(i)\n",
        "\n",
        "    \n",
        "  #dic[s[i:i+10]] = 1\n",
        "\n",
        "\n"
      ]
    },
    {
      "cell_type": "code",
      "source": [
        "dic = {1: 'cc', 2:'bb',3:'a', 4:'b'}\n",
        "#get key\n",
        "for key in dic:\n",
        "  print(key)\n",
        "print(\"----------------------\")\n",
        "#get value\n",
        "for i in dic:\n",
        "  print(dic[i])\n",
        "print(\"----------------------\")\n",
        "\n",
        "#get first value\n",
        "print(dic[1])\n",
        "print(\"----------------------\")\n",
        "#get first key\n",
        "count =0\n",
        "for item in dic:\n",
        "  count +=1\n",
        "  if count ==1:\n",
        "    print(item)\n",
        "  "
      ],
      "metadata": {
        "colab": {
          "base_uri": "https://localhost:8080/"
        },
        "id": "eDrWfWeuuMp2",
        "outputId": "4b22c369-55ef-43c8-b8dd-0158f6c2f729"
      },
      "execution_count": null,
      "outputs": [
        {
          "output_type": "stream",
          "name": "stdout",
          "text": [
            "1\n",
            "2\n",
            "3\n",
            "4\n",
            "----------------------\n",
            "cc\n",
            "bb\n",
            "a\n",
            "b\n",
            "----------------------\n",
            "cc\n",
            "----------------------\n",
            "1\n"
          ]
        }
      ]
    },
    {
      "cell_type": "code",
      "source": [
        "s = \"aabcdeg\" \n",
        "t = \"abcdfge\" \n",
        "dic1 ={}\n",
        "dic2 = {}\n",
        "for i in range(len(s)):\n",
        "    if s[i] in dic1:\n",
        "      dic1[s[i]] += 1\n",
        "    else:\n",
        "      dic1[s[i]] = 1\n",
        "      \n",
        "\n",
        "for j in range(len(t)):\n",
        "  if t[j] in dic2:\n",
        "      dic2[t[j]] += 1\n",
        "  else:\n",
        "      dic2[t[j]] = 1\n",
        "print(dic1,dic2)\n",
        "\n",
        "boolean =True\n",
        "\n",
        "\n",
        "for key in dic1:\n",
        "  if key in dic2:\n",
        "    if dic1[key] <= dic2[key]:\n",
        "      continue\n",
        "    else:\n",
        "      boolean = False\n",
        "  else:\n",
        "    boolean = False\n",
        "\n",
        "print(boolean)\n"
      ],
      "metadata": {
        "colab": {
          "base_uri": "https://localhost:8080/"
        },
        "id": "uzOuQC6FsIsI",
        "outputId": "7540c7cc-552f-49ec-da46-1a9e60bb43f1"
      },
      "execution_count": null,
      "outputs": [
        {
          "output_type": "stream",
          "name": "stdout",
          "text": [
            "{'a': 2, 'b': 1, 'c': 1, 'd': 1, 'e': 1, 'g': 1} {'a': 1, 'b': 1, 'c': 1, 'd': 1, 'f': 1, 'g': 1, 'e': 1}\n",
            "False\n"
          ]
        }
      ]
    },
    {
      "cell_type": "code",
      "source": [
        "#  # Sort the values\n",
        "order = 'cba'\n",
        "s = 'abdc'\n",
        "dic1 = {}\n",
        "dic2 ={}\n",
        "dic3 = {}\n",
        "count = -1\n",
        "for i in range(len(order)):\n",
        "    dic1[order[i]] = count + 1\n",
        "    count += 1\n",
        "#print(dic1)\n",
        "\n",
        "for item in s:\n",
        "  if item in dic1: #check key 是不是都出现过\n",
        "    dic2[item] = dic1[item]  #加入新dic里\n",
        "#print(dic2)\n",
        "  else: #如果没出现过， 加在dict最后\n",
        "      dic2[item] = 999\n",
        "\n",
        "str = \"\"\n",
        "sort_value = sorted(dic2.values()) # 按大小sort value\n",
        "print(sort_value)\n",
        "for i in sort_value : #找到每个value\n",
        "  for key in dic2.keys(): #找到每个key\n",
        "    if dic2[key] == i:\n",
        "      dic3[key] = dic2[key]\n",
        "print(dic3)"
      ],
      "metadata": {
        "colab": {
          "base_uri": "https://localhost:8080/"
        },
        "id": "HB9ga-CbKYUf",
        "outputId": "35f3db79-96cd-4a3b-f810-4a8812e08f32"
      },
      "execution_count": 69,
      "outputs": [
        {
          "output_type": "stream",
          "name": "stdout",
          "text": [
            "[0, 1, 2, 999]\n",
            "{'c': 0, 'b': 1, 'a': 2, 'd': 999}\n"
          ]
        }
      ]
    }
  ]
}