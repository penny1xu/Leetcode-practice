{
  "nbformat": 4,
  "nbformat_minor": 0,
  "metadata": {
    "colab": {
      "name": "DNA_sequence.ipynb",
      "provenance": [],
      "collapsed_sections": [],
      "authorship_tag": "ABX9TyNLmpQ1B9hao1ZXE+svtib/",
      "include_colab_link": true
    },
    "kernelspec": {
      "name": "python3",
      "display_name": "Python 3"
    },
    "language_info": {
      "name": "python"
    }
  },
  "cells": [
    {
      "cell_type": "markdown",
      "metadata": {
        "id": "view-in-github",
        "colab_type": "text"
      },
      "source": [
        "<a href=\"https://colab.research.google.com/github/penny1xu/Leetcode-practice/blob/main/DNA_sequence.ipynb\" target=\"_parent\"><img src=\"https://colab.research.google.com/assets/colab-badge.svg\" alt=\"Open In Colab\"/></a>"
      ]
    },
    {
      "cell_type": "code",
      "execution_count": 60,
      "metadata": {
        "colab": {
          "base_uri": "https://localhost:8080/"
        },
        "id": "BqtT29C86vag",
        "outputId": "eab7550d-dc95-4598-d76a-cfb0813519df"
      },
      "outputs": [
        {
          "output_type": "stream",
          "name": "stdout",
          "text": [
            "AAAAACCCCC\n",
            "CCCCCAAAAA\n"
          ]
        }
      ],
      "source": [
        "s = \"AAAAACCCCCAAAAACCCCCCAAAAAGGGTTT\"\n",
        "dic = {}\n",
        "for i in range(len(s)):\n",
        "  if s[i:i+10] not in dic:\n",
        "    dic[s[i:i+10]] = 1\n",
        "  else:\n",
        "     dic[s[i:i+10]] += 1\n",
        "for i in dic: #\"AAAAACCCCC\",\"AAAAACCCCC\"\n",
        "  if dic[i] > 1:\n",
        "    print(i)\n",
        "\n",
        "    \n",
        "  #dic[s[i:i+10]] = 1\n",
        "\n",
        "\n"
      ]
    },
    {
      "cell_type": "code",
      "source": [
        "dic = {1: 'cc', 2:'bb',3:'a', 4:'b'}\n",
        "#get key\n",
        "for key in dic:\n",
        "  print(key)\n",
        "print(\"----------------------\")\n",
        "#get value\n",
        "for i in dic:\n",
        "  print(dic[i])\n",
        "print(\"----------------------\")\n",
        "\n",
        "#get first value\n",
        "print(dic[1])\n",
        "print(\"----------------------\")\n",
        "#get first key\n",
        "count =0\n",
        "for item in dic:\n",
        "  count +=1\n",
        "  if count ==1:\n",
        "    print(item)\n",
        "  "
      ],
      "metadata": {
        "colab": {
          "base_uri": "https://localhost:8080/"
        },
        "id": "eDrWfWeuuMp2",
        "outputId": "4b22c369-55ef-43c8-b8dd-0158f6c2f729"
      },
      "execution_count": 58,
      "outputs": [
        {
          "output_type": "stream",
          "name": "stdout",
          "text": [
            "1\n",
            "2\n",
            "3\n",
            "4\n",
            "----------------------\n",
            "cc\n",
            "bb\n",
            "a\n",
            "b\n",
            "----------------------\n",
            "cc\n",
            "----------------------\n",
            "1\n"
          ]
        }
      ]
    },
    {
      "cell_type": "code",
      "source": [
        "s = \"abcdege\" \n",
        "t = \"abcdfe\" \n",
        "dic1 ={}\n",
        "dic2 = {}\n",
        "for i in range(len(s)):\n",
        "    if s[i] in dic1:\n",
        "      dic1[s[i]] += 1\n",
        "    else:\n",
        "      dic1[s[i]] = 1\n",
        "      \n",
        "\n",
        "for j in range(len(t)):\n",
        "  if t[j] in dic2:\n",
        "      dic2[t[j]] += 1\n",
        "  else:\n",
        "      dic2[t[j]] = 1\n",
        "print(dic1,dic2)\n",
        "\n",
        "\n",
        "for i in range(len(s)):\n",
        "  if s[i] in t:\n",
        "    t.pop()\n",
        "  else:\n",
        "    print(False)\n",
        "\n"
      ],
      "metadata": {
        "colab": {
          "base_uri": "https://localhost:8080/",
          "height": 263
        },
        "id": "uzOuQC6FsIsI",
        "outputId": "aa803033-e477-4591-a5dc-41e88ae006fa"
      },
      "execution_count": 18,
      "outputs": [
        {
          "output_type": "stream",
          "name": "stdout",
          "text": [
            "{'a': 1, 'b': 1, 'c': 1, 'd': 1, 'e': 2, 'g': 1} {'a': 1, 'b': 1, 'c': 1, 'd': 1, 'f': 1, 'e': 1}\n"
          ]
        },
        {
          "output_type": "error",
          "ename": "AttributeError",
          "evalue": "ignored",
          "traceback": [
            "\u001b[0;31m---------------------------------------------------------------------------\u001b[0m",
            "\u001b[0;31mAttributeError\u001b[0m                            Traceback (most recent call last)",
            "\u001b[0;32m<ipython-input-18-dc110e876d86>\u001b[0m in \u001b[0;36m<module>\u001b[0;34m()\u001b[0m\n\u001b[1;32m     20\u001b[0m \u001b[0;32mfor\u001b[0m \u001b[0mi\u001b[0m \u001b[0;32min\u001b[0m \u001b[0mrange\u001b[0m\u001b[0;34m(\u001b[0m\u001b[0mlen\u001b[0m\u001b[0;34m(\u001b[0m\u001b[0ms\u001b[0m\u001b[0;34m)\u001b[0m\u001b[0;34m)\u001b[0m\u001b[0;34m:\u001b[0m\u001b[0;34m\u001b[0m\u001b[0;34m\u001b[0m\u001b[0m\n\u001b[1;32m     21\u001b[0m   \u001b[0;32mif\u001b[0m \u001b[0ms\u001b[0m\u001b[0;34m[\u001b[0m\u001b[0mi\u001b[0m\u001b[0;34m]\u001b[0m \u001b[0;32min\u001b[0m \u001b[0mt\u001b[0m\u001b[0;34m:\u001b[0m\u001b[0;34m\u001b[0m\u001b[0;34m\u001b[0m\u001b[0m\n\u001b[0;32m---> 22\u001b[0;31m     \u001b[0mt\u001b[0m\u001b[0;34m.\u001b[0m\u001b[0mpop\u001b[0m\u001b[0;34m(\u001b[0m\u001b[0;34m)\u001b[0m\u001b[0;34m\u001b[0m\u001b[0;34m\u001b[0m\u001b[0m\n\u001b[0m\u001b[1;32m     23\u001b[0m     \u001b[0mprint\u001b[0m\u001b[0;34m(\u001b[0m\u001b[0mt\u001b[0m\u001b[0;34m)\u001b[0m\u001b[0;34m\u001b[0m\u001b[0;34m\u001b[0m\u001b[0m\n\u001b[1;32m     24\u001b[0m   \u001b[0;32melse\u001b[0m\u001b[0;34m:\u001b[0m\u001b[0;34m\u001b[0m\u001b[0;34m\u001b[0m\u001b[0m\n",
            "\u001b[0;31mAttributeError\u001b[0m: 'str' object has no attribute 'pop'"
          ]
        }
      ]
    },
    {
      "cell_type": "code",
      "source": [
        "a = ['AAAAACCCCC', 'CCCCCAAAAA', 'CAAAAAGGGT', 'TT']\n",
        "\n",
        "a[0] == a[1]"
      ],
      "metadata": {
        "colab": {
          "base_uri": "https://localhost:8080/"
        },
        "id": "HB9ga-CbKYUf",
        "outputId": "6685349f-c22e-4aae-f471-533f3e807d4b"
      },
      "execution_count": 17,
      "outputs": [
        {
          "output_type": "execute_result",
          "data": {
            "text/plain": [
              "False"
            ]
          },
          "metadata": {},
          "execution_count": 17
        }
      ]
    }
  ]
}