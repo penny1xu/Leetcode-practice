{
  "nbformat": 4,
  "nbformat_minor": 0,
  "metadata": {
    "colab": {
      "name": "rock_paper_scissors.ipynb",
      "provenance": [],
      "collapsed_sections": [],
      "authorship_tag": "ABX9TyNb+RcGx0PYrkMrBEHtTklj",
      "include_colab_link": true
    },
    "kernelspec": {
      "name": "python3",
      "display_name": "Python 3"
    },
    "language_info": {
      "name": "python"
    }
  },
  "cells": [
    {
      "cell_type": "markdown",
      "metadata": {
        "id": "view-in-github",
        "colab_type": "text"
      },
      "source": [
        "<a href=\"https://colab.research.google.com/github/penny1xu/Leetcode-practice/blob/main/rock_paper_scissors.ipynb\" target=\"_parent\"><img src=\"https://colab.research.google.com/assets/colab-badge.svg\" alt=\"Open In Colab\"/></a>"
      ]
    },
    {
      "cell_type": "code",
      "execution_count": null,
      "metadata": {
        "id": "siDNp7Ug6Nf5"
      },
      "outputs": [],
      "source": [
        "rock = '''\n",
        "    _______\n",
        "---'   ____)\n",
        "      (_____)\n",
        "      (_____)\n",
        "      (____)\n",
        "---.__(___)\n",
        "'''\n",
        "\n",
        "paper = '''\n",
        "    _______\n",
        "---'   ____)____\n",
        "          ______)\n",
        "          _______)\n",
        "         _______)\n",
        "---.__________)\n",
        "'''\n",
        "\n",
        "scissors = '''\n",
        "    _______\n",
        "---'   ____)____\n",
        "          ______)\n",
        "       __________)\n",
        "      (____)\n",
        "---.__(___)\n",
        "'''\n",
        "\n",
        "#Write your code below this line 👇\n",
        "import random\n",
        "print(\"What do you choose? Type 0 for Rock, 1 for Paper or 2 for Scissors.\")\n",
        "\n",
        "human = int(input())\n",
        "computer = random.randint(0,2)\n",
        "\n",
        "if human == 0 and computer ==2:\n",
        "  print(rock)\n",
        "  print(f\"computer choose: {computer}\")\n",
        "  print(scissors)\n",
        "  print(\"You win\")\n",
        "elif human > computer:\n",
        "  if human == 1:\n",
        "    print(paper)\n",
        "    print(f\"computer choose: {computer}\")\n",
        "    print(rock)\n",
        "    print(\"You win\")\n",
        "  else:\n",
        "    print(scissors)\n",
        "    print(f\"computer choose: {computer}\")\n",
        "    print(paper)\n",
        "    print(\"You win\")\n",
        "else: \n",
        "  if human == 0:\n",
        "    print(rock)\n",
        "    print(f\"computer choose: {computer}\")\n",
        "    print(paper)\n",
        "    print(\"You lose\")\n",
        "  elif human ==1:\n",
        "    print(paper)\n",
        "    print(f\"computer choose: {computer}\")\n",
        "    print(scissors)\n",
        "    print(\"You lose\")\n",
        "  else:\n",
        "    print(scissors)\n",
        "    print(f\"computer choose: {computer}\")\n",
        "    print(rock)\n",
        "    print(\"You lose\")\n",
        "    \n",
        "    \n",
        "    \n"
      ]
    }
  ]
}