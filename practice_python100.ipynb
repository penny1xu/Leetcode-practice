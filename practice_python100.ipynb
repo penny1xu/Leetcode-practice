{
  "nbformat": 4,
  "nbformat_minor": 0,
  "metadata": {
    "colab": {
      "name": "practice- python100.ipynb",
      "provenance": [],
      "authorship_tag": "ABX9TyNbRME+cJWRIITjhNvz8oNT",
      "include_colab_link": true
    },
    "kernelspec": {
      "name": "python3",
      "display_name": "Python 3"
    },
    "language_info": {
      "name": "python"
    }
  },
  "cells": [
    {
      "cell_type": "markdown",
      "metadata": {
        "id": "view-in-github",
        "colab_type": "text"
      },
      "source": [
        "<a href=\"https://colab.research.google.com/github/penny1xu/Leetcode-practice/blob/main/practice_python100.ipynb\" target=\"_parent\"><img src=\"https://colab.research.google.com/assets/colab-badge.svg\" alt=\"Open In Colab\"/></a>"
      ]
    },
    {
      "cell_type": "code",
      "source": [
        "import random"
      ],
      "metadata": {
        "id": "ibl6X6a5t-MZ"
      },
      "execution_count": 3,
      "outputs": []
    },
    {
      "cell_type": "code",
      "source": [
        "play = input(\"Do you want to play a game of Blackjack? Type 'y' or 'n': \")\n",
        "cards = [11, 2, 3, 4, 5, 6, 7, 8, 9, 10, 10, 10, 10]\n",
        "\n",
        "if play == \"y\":\n",
        "  your_lis = random.choices(cards,k=2)\n",
        "  your_score = sum(your_lis)\n",
        "  computer_score = random.choices(cards)\n",
        "  print(f\"Your cards: {your_lis}, current score: {your_score}\")\n",
        "  print(f\"Computer's first card: {computer_score}\")\n",
        "  add_card = print(\"Type 'y' to get another card, type 'n' to pass:\")\n",
        "  if add_card == \"y\":"
      ],
      "metadata": {
        "colab": {
          "base_uri": "https://localhost:8080/"
        },
        "id": "6ACg1zRMthDd",
        "outputId": "de0e0134-a00b-4623-af4b-dce71b664ecd"
      },
      "execution_count": 23,
      "outputs": [
        {
          "output_type": "stream",
          "name": "stdout",
          "text": [
            "Do you want to play a game of Blackjack? Type 'y' or 'n': y\n",
            "Your cards: [5, 5], current score: 10\n",
            "Computer's first card: [10]\n"
          ]
        }
      ]
    },
    {
      "cell_type": "code",
      "source": [
        "cards = [11, 2, 3, 4, 5, 6, 7, 8, 9, 10, 10, 10, 10]\n",
        "\n",
        "type(random.choices(cards,k=2))"
      ],
      "metadata": {
        "colab": {
          "base_uri": "https://localhost:8080/"
        },
        "id": "2CMhqWF8wClq",
        "outputId": "63c2dab5-2b22-404d-e1cd-66eb248bfdbd"
      },
      "execution_count": 20,
      "outputs": [
        {
          "output_type": "execute_result",
          "data": {
            "text/plain": [
              "list"
            ]
          },
          "metadata": {},
          "execution_count": 20
        }
      ]
    }
  ]
}