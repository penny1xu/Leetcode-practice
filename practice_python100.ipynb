{
  "nbformat": 4,
  "nbformat_minor": 0,
  "metadata": {
    "colab": {
      "name": "practice- python100.ipynb",
      "provenance": [],
      "authorship_tag": "ABX9TyPaZr00Ows2O4m0YZuA0IYR",
      "include_colab_link": true
    },
    "kernelspec": {
      "name": "python3",
      "display_name": "Python 3"
    },
    "language_info": {
      "name": "python"
    }
  },
  "cells": [
    {
      "cell_type": "markdown",
      "metadata": {
        "id": "view-in-github",
        "colab_type": "text"
      },
      "source": [
        "<a href=\"https://colab.research.google.com/github/penny1xu/Leetcode-practice/blob/main/practice_python100.ipynb\" target=\"_parent\"><img src=\"https://colab.research.google.com/assets/colab-badge.svg\" alt=\"Open In Colab\"/></a>"
      ]
    },
    {
      "cell_type": "code",
      "source": [
        "import random"
      ],
      "metadata": {
        "id": "ibl6X6a5t-MZ"
      },
      "execution_count": 3,
      "outputs": []
    },
    {
      "cell_type": "code",
      "source": [
        "def main():\n",
        "  play = input(\"Do you want to play a game of Blackjack? Type 'y' or 'n': \")\n",
        "  cards = [11, 2, 3, 4, 5, 6, 7, 8, 9, 10, 10, 10, 10]\n",
        "  if play == \"y\":\n",
        "    your_lis = random.choices(cards,k=2) # 选2个卡\n",
        "    your_score = sum(your_lis) # 总数是多少\n",
        "    computer_lis = random.choices(cards, k =2) #电脑选2个卡\n",
        "    computer_score = sum(computer_lis) #总数\n",
        "\n",
        "    print(f\"Your cards: {your_lis}, current score: {your_score}\") \n",
        "    print(f\"Computer's first card: {computer_lis[0]}\")\n",
        "    add_card = input(\"Type 'y' to get another card, type 'n' to pass:\")\n",
        "\n",
        "    while add_card == \"y\":\n",
        "      your_lis_add = random.choices(cards)\n",
        "      for i in your_lis_add:\n",
        "        your_score_add = your_score + i\n",
        "        your_lis.append(i)\n",
        "      print(f\"Your cards: {your_lis}, current score: {your_score_add}\")\n",
        "      print(f\"Computer's first card: {computer_lis[0]}\")\n",
        "      add_card = input(\"Type 'y' to get another card, type 'n' to pass:\")\n",
        "      if add_card ==\"n\":\n",
        "        while computer_score < 20:\n",
        "          computer_lis_add = random.choices(cards)\n",
        "          computer_score_add = computer_score + i\n",
        "          computer_lis.append(i)\n",
        "        print(f\"Your cards: {your_lis}, current score: {your_score_add}\")\n",
        "        print(f\"Computer's first card: {computer_score}\")\n",
        "\n",
        "\n",
        "\n",
        "if __name__ == \"__main__\":\n",
        "    main()\n"
      ],
      "metadata": {
        "colab": {
          "base_uri": "https://localhost:8080/"
        },
        "id": "6ACg1zRMthDd",
        "outputId": "8d987798-e53b-4acb-c66f-035436913575"
      },
      "execution_count": null,
      "outputs": [
        {
          "name": "stdout",
          "output_type": "stream",
          "text": [
            "Do you want to play a game of Blackjack? Type 'y' or 'n': y\n",
            "Your cards: [11, 10], current score: 21\n",
            "Computer's first card: 5\n",
            "Type 'y' to get another card, type 'n' to pass:y\n",
            "Your cards: [11, 10, 3], current score: 24\n",
            "Computer's first card: 5\n",
            "Type 'y' to get another card, type 'n' to pass:n\n"
          ]
        }
      ]
    },
    {
      "cell_type": "code",
      "source": [
        "cards = [11, 2, 3, 4, 5, 6, 7, 8, 9, 10, 10, 10, 10]\n",
        "\n",
        "type(random.choices(cards,k=2))"
      ],
      "metadata": {
        "colab": {
          "base_uri": "https://localhost:8080/"
        },
        "id": "2CMhqWF8wClq",
        "outputId": "7e91ff09-4657-49ef-c38a-a052b96d183f"
      },
      "execution_count": 39,
      "outputs": [
        {
          "output_type": "execute_result",
          "data": {
            "text/plain": [
              "list"
            ]
          },
          "metadata": {},
          "execution_count": 39
        }
      ]
    }
  ]
}