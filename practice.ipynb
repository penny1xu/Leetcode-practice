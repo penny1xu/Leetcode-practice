{
  "nbformat": 4,
  "nbformat_minor": 0,
  "metadata": {
    "colab": {
      "name": "practice",
      "provenance": [],
      "collapsed_sections": [
        "15wwVzodeL5S"
      ],
      "authorship_tag": "ABX9TyN/VH8DWbmCbrOhaXtaE8ha",
      "include_colab_link": true
    },
    "kernelspec": {
      "name": "python3",
      "display_name": "Python 3"
    },
    "language_info": {
      "name": "python"
    }
  },
  "cells": [
    {
      "cell_type": "markdown",
      "metadata": {
        "id": "view-in-github",
        "colab_type": "text"
      },
      "source": [
        "<a href=\"https://colab.research.google.com/github/penny1xu/Leetcode-practice/blob/main/practice.ipynb\" target=\"_parent\"><img src=\"https://colab.research.google.com/assets/colab-badge.svg\" alt=\"Open In Colab\"/></a>"
      ]
    },
    {
      "cell_type": "code",
      "execution_count": null,
      "metadata": {
        "id": "hw1P-HqJAid9"
      },
      "outputs": [],
      "source": [
        "claim = \"Pluto is a planet!\"\n",
        "claim.index('l')\n",
        "claim.startswith(planet)"
      ]
    },
    {
      "cell_type": "code",
      "source": [
        "doc_list = [\"The Learn Python Challenge Casino.\", \"They bought a car\", \"Casinoville\"]\n",
        "\n",
        "def word_search(doc_list, keyword):\n",
        "    # list to hold the indices of matching documents\n",
        "    indices = [] \n",
        "    # Iterate through the indices (i) and elements (doc) of documents\n",
        "    for i, doc in enumerate(doc_list):\n",
        "        # Split the string doc into a list of words (according to whitespace)\n",
        "        tokens = doc.split()\n",
        "        # Make a transformed list where we 'normalize' each word to facilitate matching.\n",
        "        # Periods and commas are removed from the end of each word, and it's set to all lowercase.\n",
        "        normalized = [token.rstrip('.,').lower() for token in tokens]\n",
        "        # Is there a match? If so, update the list of matching indices.\n",
        "        if keyword.lower() in normalized:\n",
        "            indices.append(i)\n",
        "    return indices\n",
        "\n",
        "word_search(doc_list, 'casino')"
      ],
      "metadata": {
        "id": "bgJaMz4B0XF5"
      },
      "execution_count": null,
      "outputs": []
    },
    {
      "cell_type": "code",
      "source": [
        "datestr = '1956-01-31'\n",
        "year, month, day = datestr.split('-')\n",
        "'/'.join([month, day, year])\n",
        "' 👏 '.join([word.upper() for word in words])"
      ],
      "metadata": {
        "id": "M6cxpBdwBH0k"
      },
      "execution_count": null,
      "outputs": []
    },
    {
      "cell_type": "code",
      "source": [
        "name1 = \"Angela Yu\"\n",
        "name2 = \"Jack Bauer\"\n",
        "\n",
        "name1 = name1.lower()\n",
        "name2 = name2.lower()\n",
        "name3 = name1 + name2\n",
        "\n",
        "T = name3.count(\"t\")\n",
        "R = name3.count(\"r\")\n",
        "U = name3.count(\"u\")\n",
        "E = name3.count(\"e\")\n",
        "total1 = T+R+U+E\n",
        "L = name3.count(\"l\")\n",
        "O = name3.count(\"o\")\n",
        "V = name3.count(\"v\")\n",
        "E = name3.count(\"e\")\n",
        "total2 = L+O+V+E\n"
      ],
      "metadata": {
        "id": "rdc_OtT9oaSX"
      },
      "execution_count": null,
      "outputs": []
    },
    {
      "cell_type": "code",
      "source": [
        "names_string = ['Angela', 'Ben', 'Jenny', 'Michael', 'Chloe']\n",
        "\n",
        "import random\n",
        "# 🚨 Don't change the code below 👇\n",
        "test_seed = int(input(\"Create a seed number: \"))\n",
        "random.seed(test_seed)\n",
        "\n",
        "# Split string method\n",
        "names_string = input(\"Give me everybody's names, separated by a comma. \")\n",
        "names = names_string.split(\", \")\n",
        "# 🚨 Don't change the code above 👆\n",
        "\n",
        "#Write your code below this line 👇\n",
        "print(names)"
      ],
      "metadata": {
        "colab": {
          "base_uri": "https://localhost:8080/"
        },
        "id": "SnX4WZyVDGM5",
        "outputId": "8624d1c7-d167-4847-f43a-6e73032d17f2"
      },
      "execution_count": null,
      "outputs": [
        {
          "output_type": "stream",
          "name": "stdout",
          "text": [
            "Create a seed number: 1\n",
            "Give me everybody's names, separated by a comma. Angela, Ben, Jenny, Michael, Chloe\n",
            "['Angela', 'Ben', 'Jenny', 'Michael', 'Chloe']\n"
          ]
        }
      ]
    },
    {
      "cell_type": "code",
      "source": [
        "# 🚨 Don't change the code below 👇\n",
        "row1 = [\"1\",\"2\",\"3\"]\n",
        "row2 = [\"4\",\"5\",\"6\"]\n",
        "row3 = [\"7\",\"8\",\"9\"]\n",
        "map = [row1, row2, row3]\n",
        "print(f\"{row1}\\n{row2}\\n{row3}\")\n",
        "position = input(\"Where do you want to put the treasure? \")\n",
        "# 🚨 Don't change the code above 👆\n",
        "\n",
        "#Write your code below this row 👇\n",
        "i = int(position[0])\n",
        "j = int(position[1])\n",
        "\n",
        "map[i - 1][j - 1]= 'X'\n",
        "print(f\"{row1}\\n{row2}\\n{row3}\")\n",
        "\n",
        "\n",
        "\n",
        "\n",
        "\n",
        "#Write your code above this row 👆\n",
        "\n",
        "# 🚨 Don't change the code below 👇\n",
        "#print(f\"{row1}\\n{row2}\\n{row3}\")"
      ],
      "metadata": {
        "id": "NXI6QqmTj5_u"
      },
      "execution_count": null,
      "outputs": []
    },
    {
      "cell_type": "code",
      "source": [
        "starting_dictionary = {\n",
        "  \"a\": 9,\n",
        "  \"b\": 8,\n",
        "}\n",
        "\n",
        "starting_dictionary['c']=2\n",
        "print(starting_dictionary)"
      ],
      "metadata": {
        "id": "SKDjrCom3B2M"
      },
      "execution_count": null,
      "outputs": []
    },
    {
      "cell_type": "code",
      "source": [
        "order = {\n",
        "  \"starter\": {1: \"Salad\", 2: \"Soup\"},\n",
        "  \"main\": {1: [\"Burger\", \"Fries\"], 2: [\"Steak\"]},\n",
        "  \"dessert\": {1: [\"Ice Cream\"], 2: []},\n",
        "}\n",
        "\n",
        "print(order[\"starter\"][1])"
      ],
      "metadata": {
        "id": "GOjy5KvQ30J9"
      },
      "execution_count": null,
      "outputs": []
    },
    {
      "cell_type": "code",
      "source": [
        "from replit import clear\n",
        "#HINT: You can call clear() to clear the output in the console.\n",
        "\n",
        "dic = {}\n",
        "\n",
        "def get_input():\n",
        "  value = 0\n",
        "  \n",
        "  name = input(\"please input your name: \")\n",
        "  price = int(input(\"please input your price: \"))\n",
        "  canadate = input(\"other canadate: \")\n",
        "  dic[name] = price\n",
        "  if canadate == \"no\":\n",
        "    for key in dic:\n",
        "      if dic[key]  > value:\n",
        "        value = dic[key]\n",
        "        final_name = key\n",
        "    print(final_name,value)\n",
        "        \n",
        "  else:\n",
        "    return get_input()\n",
        "\n",
        "get_input()"
      ],
      "metadata": {
        "id": "xmBuFYGpYJ5p"
      },
      "execution_count": null,
      "outputs": []
    },
    {
      "cell_type": "markdown",
      "source": [
        "# change name"
      ],
      "metadata": {
        "id": "15wwVzodeL5S"
      }
    },
    {
      "cell_type": "code",
      "source": [
        "def format(f_name, l_name):\n",
        "  F_name = \"\"\n",
        "  L_name = \"\"\n",
        "  f_name = f_name.lower()\n",
        "  l_name = l_name.lower()\n",
        "  for f in range(len(f_name)):\n",
        "    if f == 0:\n",
        "      F_name += f_name[f].upper()\n",
        "    else:\n",
        "      F_name +=f_name[f]\n",
        "  for l in range(len(l_name)):\n",
        "    if l == 0:\n",
        "      L_name += l_name[l].upper()\n",
        "    else:\n",
        "      L_name +=l_name[l]   \n",
        " \n",
        "  print(F_name, L_name)\n",
        "\n",
        "\n",
        "format('esdioej','dsfjkjdaXU')"
      ],
      "metadata": {
        "colab": {
          "base_uri": "https://localhost:8080/"
        },
        "id": "8C-1VHLneN0P",
        "outputId": "d70912ba-d620-4337-993a-b87a56316d99"
      },
      "execution_count": 1,
      "outputs": [
        {
          "output_type": "stream",
          "name": "stdout",
          "text": [
            "Esdioej Dsfjkjdaxu\n"
          ]
        }
      ]
    },
    {
      "cell_type": "markdown",
      "source": [
        "# Calculater"
      ],
      "metadata": {
        "id": "dHMKsoTIaiw7"
      }
    },
    {
      "cell_type": "code",
      "source": [
        "def add (first, next):\n",
        "  return first + next\n",
        "\n",
        "def subtract (first, next):\n",
        "  return first - next\n",
        "\n",
        "def dividide (first, next):\n",
        "  return first / next\n",
        "\n",
        "def multi (first, next):\n",
        "  return first * next\n",
        "\n",
        "first = int(input(\"what is your 1st number: \"))\n",
        "next = int(input(\"what is your next number: \"))\n",
        "\n",
        "operation_sym = {\n",
        "  \"+\": add,\n",
        "  \"-\": subtract,\n",
        "  \"/\": dividide,\n",
        "  \"*\": multi\n",
        "}\n",
        "for symbol in operation_sym:\n",
        "  print(symbol)\n",
        "operation = input(\"pick an operation: \")\n",
        "cal_function = operation_sym[operation]\n",
        "ans = cal_function(first,next)\n",
        "print(ans) "
      ],
      "metadata": {
        "id": "Ov6hzUS7ahWd"
      },
      "execution_count": null,
      "outputs": []
    },
    {
      "cell_type": "markdown",
      "source": [
        "# Running Sum of 1d Array"
      ],
      "metadata": {
        "id": "9tzqFmxKhlVr"
      }
    },
    {
      "cell_type": "code",
      "source": [
        "new_nums = []\n",
        "\n",
        "def runningSum(nums):\n",
        "  for i in range(len(nums)): # 取每个值 1，2，3，4\n",
        "    if i == 0:\n",
        "      new_nums.append(nums[i])# 先吧1 赋予新的list\n",
        "      num1 = nums[i]\n",
        "    else:\n",
        "       num = num1 + nums[i]  # 1+2=3\n",
        "       num1 = num\n",
        "       new_nums.append(num1) # 加入新的lis\n",
        "  return new_nums\n",
        "            \n",
        "nums = [1,2,3,4] \n",
        "runningSum(nums)"
      ],
      "metadata": {
        "colab": {
          "base_uri": "https://localhost:8080/"
        },
        "id": "0BG27AEehosQ",
        "outputId": "0ab4397e-5ba3-419d-b55c-2b2dbd1492fe"
      },
      "execution_count": 3,
      "outputs": [
        {
          "output_type": "execute_result",
          "data": {
            "text/plain": [
              "[1, 3, 6, 10]"
            ]
          },
          "metadata": {},
          "execution_count": 3
        }
      ]
    },
    {
      "cell_type": "code",
      "source": [
        "def runningSum(nums):\n",
        "  a = 0\n",
        "  lis= []\n",
        "  for i in nums:\n",
        "    a += i\n",
        "    lis.append(a)\n",
        "  return(lis)\n",
        "nums = [1,2,3,4] \n",
        "runningSum(nums)"
      ],
      "metadata": {
        "colab": {
          "base_uri": "https://localhost:8080/"
        },
        "id": "UMqEcC3YU52A",
        "outputId": "14f55905-295b-4dcf-9fe8-e682b06f568f"
      },
      "execution_count": 4,
      "outputs": [
        {
          "output_type": "execute_result",
          "data": {
            "text/plain": [
              "[1, 3, 6, 10]"
            ]
          },
          "metadata": {},
          "execution_count": 4
        }
      ]
    },
    {
      "cell_type": "markdown",
      "source": [
        "#1672. Richest Customer Wealth\n",
        "\n"
      ],
      "metadata": {
        "id": "yq3ApNh9Wqq3"
      }
    },
    {
      "cell_type": "code",
      "source": [
        "#my way\n",
        "def maximumWealth(accounts):\n",
        "  max = 0\n",
        "  for num in accounts: # [1,2,3] [3,2,1]\n",
        "    total = sum(num)\n",
        "    if total > max:\n",
        "      max = total\n",
        "  return max\n",
        "     \n",
        "  \n",
        "  \n",
        "\n",
        "\n",
        "\n",
        "\n",
        "accounts = [[1,5],[7,3],[3,5]]\n",
        "maximumWealth(accounts)\n"
      ],
      "metadata": {
        "colab": {
          "base_uri": "https://localhost:8080/"
        },
        "id": "Hcnv-j2cWq6N",
        "outputId": "f3a8abe2-7d0e-4d90-9fb8-bcd9e070ed99"
      },
      "execution_count": 67,
      "outputs": [
        {
          "output_type": "execute_result",
          "data": {
            "text/plain": [
              "10"
            ]
          },
          "metadata": {},
          "execution_count": 67
        }
      ]
    },
    {
      "cell_type": "code",
      "source": [
        "accounts = [[1,2,3],[3,2,1]]\n",
        "\n",
        "      \n"
      ],
      "metadata": {
        "colab": {
          "base_uri": "https://localhost:8080/"
        },
        "id": "lPH5q17PXbkE",
        "outputId": "1d283eff-58da-4077-dee4-07339d8811e0"
      },
      "execution_count": 61,
      "outputs": [
        {
          "output_type": "stream",
          "name": "stdout",
          "text": [
            "6\n",
            "6\n"
          ]
        }
      ]
    },
    {
      "cell_type": "code",
      "source": [
        ":\n"
      ],
      "metadata": {
        "id": "RB3kgD2faLpC"
      },
      "execution_count": null,
      "outputs": []
    }
  ]
}