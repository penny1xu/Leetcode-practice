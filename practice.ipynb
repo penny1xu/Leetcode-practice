{
  "nbformat": 4,
  "nbformat_minor": 0,
  "metadata": {
    "colab": {
      "name": "practice",
      "provenance": [],
      "collapsed_sections": [],
      "authorship_tag": "ABX9TyOit7ZpaKIjA5ZuuIQhBDwV",
      "include_colab_link": true
    },
    "kernelspec": {
      "name": "python3",
      "display_name": "Python 3"
    },
    "language_info": {
      "name": "python"
    }
  },
  "cells": [
    {
      "cell_type": "markdown",
      "metadata": {
        "id": "view-in-github",
        "colab_type": "text"
      },
      "source": [
        "<a href=\"https://colab.research.google.com/github/penny1xu/Leetcode-practice/blob/main/practice.ipynb\" target=\"_parent\"><img src=\"https://colab.research.google.com/assets/colab-badge.svg\" alt=\"Open In Colab\"/></a>"
      ]
    },
    {
      "cell_type": "code",
      "execution_count": null,
      "metadata": {
        "id": "hw1P-HqJAid9"
      },
      "outputs": [],
      "source": [
        "claim = \"Pluto is a planet!\"\n",
        "claim.index('l')\n",
        "claim.startswith(planet)"
      ]
    },
    {
      "cell_type": "code",
      "source": [
        "doc_list = [\"The Learn Python Challenge Casino.\", \"They bought a car\", \"Casinoville\"]\n",
        "\n",
        "def word_search(doc_list, keyword):\n",
        "    # list to hold the indices of matching documents\n",
        "    indices = [] \n",
        "    # Iterate through the indices (i) and elements (doc) of documents\n",
        "    for i, doc in enumerate(doc_list):\n",
        "        # Split the string doc into a list of words (according to whitespace)\n",
        "        tokens = doc.split()\n",
        "        # Make a transformed list where we 'normalize' each word to facilitate matching.\n",
        "        # Periods and commas are removed from the end of each word, and it's set to all lowercase.\n",
        "        normalized = [token.rstrip('.,').lower() for token in tokens]\n",
        "        # Is there a match? If so, update the list of matching indices.\n",
        "        if keyword.lower() in normalized:\n",
        "            indices.append(i)\n",
        "    return indices\n",
        "\n",
        "word_search(doc_list, 'casino')"
      ],
      "metadata": {
        "colab": {
          "base_uri": "https://localhost:8080/"
        },
        "id": "bgJaMz4B0XF5",
        "outputId": "3a55fbaf-ee04-49e5-ea9c-dcfa3c388320"
      },
      "execution_count": null,
      "outputs": [
        {
          "output_type": "execute_result",
          "data": {
            "text/plain": [
              "[0]"
            ]
          },
          "metadata": {},
          "execution_count": 12
        }
      ]
    },
    {
      "cell_type": "code",
      "source": [
        "datestr = '1956-01-31'\n",
        "year, month, day = datestr.split('-')\n",
        "'/'.join([month, day, year])\n",
        "' 👏 '.join([word.upper() for word in words])"
      ],
      "metadata": {
        "colab": {
          "base_uri": "https://localhost:8080/",
          "height": 207
        },
        "id": "M6cxpBdwBH0k",
        "outputId": "3ea9d842-f050-49cb-b53e-9bb61079952d"
      },
      "execution_count": null,
      "outputs": [
        {
          "output_type": "error",
          "ename": "NameError",
          "evalue": "ignored",
          "traceback": [
            "\u001b[0;31m---------------------------------------------------------------------------\u001b[0m",
            "\u001b[0;31mNameError\u001b[0m                                 Traceback (most recent call last)",
            "\u001b[0;32m<ipython-input-10-e64e0a7abafb>\u001b[0m in \u001b[0;36m<module>\u001b[0;34m()\u001b[0m\n\u001b[1;32m      2\u001b[0m \u001b[0myear\u001b[0m\u001b[0;34m,\u001b[0m \u001b[0mmonth\u001b[0m\u001b[0;34m,\u001b[0m \u001b[0mday\u001b[0m \u001b[0;34m=\u001b[0m \u001b[0mdatestr\u001b[0m\u001b[0;34m.\u001b[0m\u001b[0msplit\u001b[0m\u001b[0;34m(\u001b[0m\u001b[0;34m'-'\u001b[0m\u001b[0;34m)\u001b[0m\u001b[0;34m\u001b[0m\u001b[0;34m\u001b[0m\u001b[0m\n\u001b[1;32m      3\u001b[0m \u001b[0;34m'/'\u001b[0m\u001b[0;34m.\u001b[0m\u001b[0mjoin\u001b[0m\u001b[0;34m(\u001b[0m\u001b[0;34m[\u001b[0m\u001b[0mmonth\u001b[0m\u001b[0;34m,\u001b[0m \u001b[0mday\u001b[0m\u001b[0;34m,\u001b[0m \u001b[0myear\u001b[0m\u001b[0;34m]\u001b[0m\u001b[0;34m)\u001b[0m\u001b[0;34m\u001b[0m\u001b[0;34m\u001b[0m\u001b[0m\n\u001b[0;32m----> 4\u001b[0;31m \u001b[0;34m' 👏 '\u001b[0m\u001b[0;34m.\u001b[0m\u001b[0mjoin\u001b[0m\u001b[0;34m(\u001b[0m\u001b[0;34m[\u001b[0m\u001b[0mword\u001b[0m\u001b[0;34m.\u001b[0m\u001b[0mupper\u001b[0m\u001b[0;34m(\u001b[0m\u001b[0;34m)\u001b[0m \u001b[0;32mfor\u001b[0m \u001b[0mword\u001b[0m \u001b[0;32min\u001b[0m \u001b[0mwords\u001b[0m\u001b[0;34m]\u001b[0m\u001b[0;34m)\u001b[0m\u001b[0;34m\u001b[0m\u001b[0;34m\u001b[0m\u001b[0m\n\u001b[0m",
            "\u001b[0;31mNameError\u001b[0m: name 'words' is not defined"
          ]
        }
      ]
    },
    {
      "cell_type": "code",
      "source": [
        "name1 = \"Angela Yu\"\n",
        "name2 = \"Jack Bauer\"\n",
        "\n",
        "name1 = name1.lower()\n",
        "name2 = name2.lower()\n",
        "name3 = name1 + name2\n",
        "\n",
        "T = name3.count(\"t\")\n",
        "R = name3.count(\"r\")\n",
        "U = name3.count(\"u\")\n",
        "E = name3.count(\"e\")\n",
        "total1 = T+R+U+E\n",
        "L = name3.count(\"l\")\n",
        "O = name3.count(\"o\")\n",
        "V = name3.count(\"v\")\n",
        "E = name3.count(\"e\")\n",
        "total2 = L+O+V+E\n"
      ],
      "metadata": {
        "colab": {
          "base_uri": "https://localhost:8080/"
        },
        "id": "rdc_OtT9oaSX",
        "outputId": "9c414a66-8904-4289-8e0b-d08bd3b4f2cc"
      },
      "execution_count": null,
      "outputs": [
        {
          "output_type": "stream",
          "name": "stdout",
          "text": [
            "angela yujack bauer\n"
          ]
        }
      ]
    },
    {
      "cell_type": "code",
      "source": [
        "names_string = ['Angela', 'Ben', 'Jenny', 'Michael', 'Chloe']\n",
        "\n",
        "import random\n",
        "# 🚨 Don't change the code below 👇\n",
        "test_seed = int(input(\"Create a seed number: \"))\n",
        "random.seed(test_seed)\n",
        "\n",
        "# Split string method\n",
        "names_string = input(\"Give me everybody's names, separated by a comma. \")\n",
        "names = names_string.split(\", \")\n",
        "# 🚨 Don't change the code above 👆\n",
        "\n",
        "#Write your code below this line 👇\n",
        "print(names)"
      ],
      "metadata": {
        "colab": {
          "base_uri": "https://localhost:8080/"
        },
        "id": "SnX4WZyVDGM5",
        "outputId": "8624d1c7-d167-4847-f43a-6e73032d17f2"
      },
      "execution_count": null,
      "outputs": [
        {
          "output_type": "stream",
          "name": "stdout",
          "text": [
            "Create a seed number: 1\n",
            "Give me everybody's names, separated by a comma. Angela, Ben, Jenny, Michael, Chloe\n",
            "['Angela', 'Ben', 'Jenny', 'Michael', 'Chloe']\n"
          ]
        }
      ]
    },
    {
      "cell_type": "code",
      "source": [
        "# 🚨 Don't change the code below 👇\n",
        "row1 = [\"1\",\"2\",\"3\"]\n",
        "row2 = [\"4\",\"5\",\"6\"]\n",
        "row3 = [\"7\",\"8\",\"9\"]\n",
        "map = [row1, row2, row3]\n",
        "print(f\"{row1}\\n{row2}\\n{row3}\")\n",
        "position = input(\"Where do you want to put the treasure? \")\n",
        "# 🚨 Don't change the code above 👆\n",
        "\n",
        "#Write your code below this row 👇\n",
        "i = int(position[0])\n",
        "j = int(position[1])\n",
        "\n",
        "map[i - 1][j - 1]= 'X'\n",
        "print(f\"{row1}\\n{row2}\\n{row3}\")\n",
        "\n",
        "\n",
        "\n",
        "\n",
        "\n",
        "#Write your code above this row 👆\n",
        "\n",
        "# 🚨 Don't change the code below 👇\n",
        "#print(f\"{row1}\\n{row2}\\n{row3}\")"
      ],
      "metadata": {
        "colab": {
          "base_uri": "https://localhost:8080/"
        },
        "id": "NXI6QqmTj5_u",
        "outputId": "86480042-8fff-4109-d43c-02378b6b0d7a"
      },
      "execution_count": null,
      "outputs": [
        {
          "output_type": "stream",
          "name": "stdout",
          "text": [
            "['1', '2', '3']\n",
            "['4', '5', '6']\n",
            "['7', '8', '9']\n",
            "Where do you want to put the treasure? 22\n",
            "['1', '2', '3']\n",
            "['4', 'X', '6']\n",
            "['7', '8', '9']\n"
          ]
        }
      ]
    },
    {
      "cell_type": "code",
      "source": [
        "starting_dictionary = {\n",
        "  \"a\": 9,\n",
        "  \"b\": 8,\n",
        "}\n",
        "\n",
        "starting_dictionary['c']=2\n",
        "print(starting_dictionary)"
      ],
      "metadata": {
        "colab": {
          "base_uri": "https://localhost:8080/"
        },
        "id": "SKDjrCom3B2M",
        "outputId": "9b598cf9-24d3-4651-9a15-e0dcdcdbda31"
      },
      "execution_count": 1,
      "outputs": [
        {
          "output_type": "stream",
          "name": "stdout",
          "text": [
            "{'a': 9, 'b': 8, 'c': 2}\n"
          ]
        }
      ]
    },
    {
      "cell_type": "code",
      "source": [
        "order = {\n",
        "  \"starter\": {1: \"Salad\", 2: \"Soup\"},\n",
        "  \"main\": {1: [\"Burger\", \"Fries\"], 2: [\"Steak\"]},\n",
        "  \"dessert\": {1: [\"Ice Cream\"], 2: []},\n",
        "}\n",
        "\n",
        "print(order[\"starter\"][1])"
      ],
      "metadata": {
        "colab": {
          "base_uri": "https://localhost:8080/"
        },
        "id": "GOjy5KvQ30J9",
        "outputId": "bc45efa6-e309-456e-ec7d-15b45426a000"
      },
      "execution_count": 8,
      "outputs": [
        {
          "output_type": "stream",
          "name": "stdout",
          "text": [
            "Salad\n"
          ]
        }
      ]
    },
    {
      "cell_type": "code",
      "source": [
        "from replit import clear\n",
        "#HINT: You can call clear() to clear the output in the console.\n",
        "\n",
        "dic = {}\n",
        "\n",
        "def get_input():\n",
        "  value = 0\n",
        "  \n",
        "  name = input(\"please input your name: \")\n",
        "  price = int(input(\"please input your price: \"))\n",
        "  canadate = input(\"other canadate: \")\n",
        "  dic[name] = price\n",
        "  if canadate == \"no\":\n",
        "    for key in dic:\n",
        "      if dic[key]  > value:\n",
        "        value = dic[key]\n",
        "        final_name = key\n",
        "    print(final_name,value)\n",
        "        \n",
        "  else:\n",
        "    return get_input()\n",
        "\n",
        "get_input()"
      ],
      "metadata": {
        "id": "xmBuFYGpYJ5p"
      },
      "execution_count": null,
      "outputs": []
    },
    {
      "cell_type": "markdown",
      "source": [
        "# change name"
      ],
      "metadata": {
        "id": "15wwVzodeL5S"
      }
    },
    {
      "cell_type": "code",
      "source": [
        "def format(f_name, l_name):\n",
        "  F_name = \"\"\n",
        "  L_name = \"\"\n",
        "  f_name = f_name.lower()\n",
        "  l_name = l_name.lower()\n",
        "  for f in range(len(f_name)):\n",
        "    if f == 0:\n",
        "      F_name += f_name[f].upper()\n",
        "    else:\n",
        "      F_name +=f_name[f]\n",
        "  for l in range(len(l_name)):\n",
        "    if l == 0:\n",
        "      L_name += l_name[l].upper()\n",
        "    else:\n",
        "      L_name +=l_name[l]   \n",
        " \n",
        "  print(F_name, L_name)\n",
        "\n",
        "\n",
        "format('YEYUN','XU')"
      ],
      "metadata": {
        "colab": {
          "base_uri": "https://localhost:8080/"
        },
        "id": "8C-1VHLneN0P",
        "outputId": "4f304d93-e3cd-429e-a33f-cbaec1546dcc"
      },
      "execution_count": 16,
      "outputs": [
        {
          "output_type": "stream",
          "name": "stdout",
          "text": [
            "Yeyun Xu\n"
          ]
        }
      ]
    },
    {
      "cell_type": "markdown",
      "source": [
        "# Calculater"
      ],
      "metadata": {
        "id": "dHMKsoTIaiw7"
      }
    },
    {
      "cell_type": "code",
      "source": [
        ""
      ],
      "metadata": {
        "id": "Ov6hzUS7ahWd"
      },
      "execution_count": null,
      "outputs": []
    }
  ]
}