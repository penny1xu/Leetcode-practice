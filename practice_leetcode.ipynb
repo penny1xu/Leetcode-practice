{
  "nbformat": 4,
  "nbformat_minor": 0,
  "metadata": {
    "colab": {
      "name": "practice-leetcode",
      "provenance": [],
      "collapsed_sections": [
        "15wwVzodeL5S"
      ],
      "authorship_tag": "ABX9TyPe12huk7q9oBDPVsAs2iUh",
      "include_colab_link": true
    },
    "kernelspec": {
      "name": "python3",
      "display_name": "Python 3"
    },
    "language_info": {
      "name": "python"
    }
  },
  "cells": [
    {
      "cell_type": "markdown",
      "metadata": {
        "id": "view-in-github",
        "colab_type": "text"
      },
      "source": [
        "<a href=\"https://colab.research.google.com/github/penny1xu/Leetcode-practice/blob/main/practice_leetcode.ipynb\" target=\"_parent\"><img src=\"https://colab.research.google.com/assets/colab-badge.svg\" alt=\"Open In Colab\"/></a>"
      ]
    },
    {
      "cell_type": "markdown",
      "source": [
        "# Learning"
      ],
      "metadata": {
        "id": "sF4w_yM7xk2J"
      }
    },
    {
      "cell_type": "code",
      "execution_count": null,
      "metadata": {
        "id": "hw1P-HqJAid9"
      },
      "outputs": [],
      "source": [
        "claim = \"Pluto is a planet!\"\n",
        "claim.index('l')\n",
        "claim.startswith(planet)"
      ]
    },
    {
      "cell_type": "code",
      "source": [
        "doc_list = [\"The Learn Python Challenge Casino.\", \"They bought a car\", \"Casinoville\"]\n",
        "\n",
        "def word_search(doc_list, keyword):\n",
        "    # list to hold the indices of matching documents\n",
        "    indices = [] \n",
        "    # Iterate through the indices (i) and elements (doc) of documents\n",
        "    for i, doc in enumerate(doc_list):\n",
        "        # Split the string doc into a list of words (according to whitespace)\n",
        "        tokens = doc.split()\n",
        "        # Make a transformed list where we 'normalize' each word to facilitate matching.\n",
        "        # Periods and commas are removed from the end of each word, and it's set to all lowercase.\n",
        "        normalized = [token.rstrip('.,').lower() for token in tokens]\n",
        "        # Is there a match? If so, update the list of matching indices.\n",
        "        if keyword.lower() in normalized:\n",
        "            indices.append(i)\n",
        "    return indices\n",
        "\n",
        "word_search(doc_list, 'casino')"
      ],
      "metadata": {
        "id": "bgJaMz4B0XF5"
      },
      "execution_count": null,
      "outputs": []
    },
    {
      "cell_type": "code",
      "source": [
        "datestr = '1956-01-31'\n",
        "year, month, day = datestr.split('-')\n",
        "'/'.join([month, day, year])\n",
        "' 👏 '.join([word.upper() for word in words])"
      ],
      "metadata": {
        "id": "M6cxpBdwBH0k"
      },
      "execution_count": null,
      "outputs": []
    },
    {
      "cell_type": "code",
      "source": [
        "name1 = \"Angela Yu\"\n",
        "name2 = \"Jack Bauer\"\n",
        "\n",
        "name1 = name1.lower()\n",
        "name2 = name2.lower()\n",
        "name3 = name1 + name2\n",
        "\n",
        "T = name3.count(\"t\")\n",
        "R = name3.count(\"r\")\n",
        "U = name3.count(\"u\")\n",
        "E = name3.count(\"e\")\n",
        "total1 = T+R+U+E\n",
        "L = name3.count(\"l\")\n",
        "O = name3.count(\"o\")\n",
        "V = name3.count(\"v\")\n",
        "E = name3.count(\"e\")\n",
        "total2 = L+O+V+E\n"
      ],
      "metadata": {
        "id": "rdc_OtT9oaSX"
      },
      "execution_count": null,
      "outputs": []
    },
    {
      "cell_type": "code",
      "source": [
        "names_string = ['Angela', 'Ben', 'Jenny', 'Michael', 'Chloe']\n",
        "\n",
        "import random\n",
        "# 🚨 Don't change the code below 👇\n",
        "test_seed = int(input(\"Create a seed number: \"))\n",
        "random.seed(test_seed)\n",
        "\n",
        "# Split string method\n",
        "names_string = input(\"Give me everybody's names, separated by a comma. \")\n",
        "names = names_string.split(\", \")\n",
        "# 🚨 Don't change the code above 👆\n",
        "\n",
        "#Write your code below this line 👇\n",
        "print(names)"
      ],
      "metadata": {
        "colab": {
          "base_uri": "https://localhost:8080/"
        },
        "id": "SnX4WZyVDGM5",
        "outputId": "8624d1c7-d167-4847-f43a-6e73032d17f2"
      },
      "execution_count": null,
      "outputs": [
        {
          "output_type": "stream",
          "name": "stdout",
          "text": [
            "Create a seed number: 1\n",
            "Give me everybody's names, separated by a comma. Angela, Ben, Jenny, Michael, Chloe\n",
            "['Angela', 'Ben', 'Jenny', 'Michael', 'Chloe']\n"
          ]
        }
      ]
    },
    {
      "cell_type": "code",
      "source": [
        "# 🚨 Don't change the code below 👇\n",
        "row1 = [\"1\",\"2\",\"3\"]\n",
        "row2 = [\"4\",\"5\",\"6\"]\n",
        "row3 = [\"7\",\"8\",\"9\"]\n",
        "map = [row1, row2, row3]\n",
        "print(f\"{row1}\\n{row2}\\n{row3}\")\n",
        "position = input(\"Where do you want to put the treasure? \")\n",
        "# 🚨 Don't change the code above 👆\n",
        "\n",
        "#Write your code below this row 👇\n",
        "i = int(position[0])\n",
        "j = int(position[1])\n",
        "\n",
        "map[i - 1][j - 1]= 'X'\n",
        "print(f\"{row1}\\n{row2}\\n{row3}\")\n",
        "\n",
        "\n",
        "\n",
        "\n",
        "\n",
        "#Write your code above this row 👆\n",
        "\n",
        "# 🚨 Don't change the code below 👇\n",
        "#print(f\"{row1}\\n{row2}\\n{row3}\")"
      ],
      "metadata": {
        "id": "NXI6QqmTj5_u"
      },
      "execution_count": null,
      "outputs": []
    },
    {
      "cell_type": "code",
      "source": [
        "starting_dictionary = {\n",
        "  \"a\": 9,\n",
        "  \"b\": 8,\n",
        "}\n",
        "\n",
        "starting_dictionary['c']=2\n",
        "print(starting_dictionary)"
      ],
      "metadata": {
        "id": "SKDjrCom3B2M"
      },
      "execution_count": null,
      "outputs": []
    },
    {
      "cell_type": "code",
      "source": [
        "order = {\n",
        "  \"starter\": {1: \"Salad\", 2: \"Soup\"},\n",
        "  \"main\": {1: [\"Burger\", \"Fries\"], 2: [\"Steak\"]},\n",
        "  \"dessert\": {1: [\"Ice Cream\"], 2: []},\n",
        "}\n",
        "\n",
        "print(order[\"starter\"][1])"
      ],
      "metadata": {
        "id": "GOjy5KvQ30J9"
      },
      "execution_count": null,
      "outputs": []
    },
    {
      "cell_type": "code",
      "source": [
        "from replit import clear\n",
        "#HINT: You can call clear() to clear the output in the console.\n",
        "\n",
        "dic = {}\n",
        "\n",
        "def get_input():\n",
        "  value = 0\n",
        "  \n",
        "  name = input(\"please input your name: \")\n",
        "  price = int(input(\"please input your price: \"))\n",
        "  canadate = input(\"other canadate: \")\n",
        "  dic[name] = price\n",
        "  if canadate == \"no\":\n",
        "    for key in dic:\n",
        "      if dic[key]  > value:\n",
        "        value = dic[key]\n",
        "        final_name = key\n",
        "    print(final_name,value)\n",
        "        \n",
        "  else:\n",
        "    return get_input()\n",
        "\n",
        "get_input()"
      ],
      "metadata": {
        "id": "xmBuFYGpYJ5p"
      },
      "execution_count": null,
      "outputs": []
    },
    {
      "cell_type": "markdown",
      "source": [
        "# change name"
      ],
      "metadata": {
        "id": "15wwVzodeL5S"
      }
    },
    {
      "cell_type": "code",
      "source": [
        "def format(f_name, l_name):\n",
        "  F_name = \"\"\n",
        "  L_name = \"\"\n",
        "  f_name = f_name.lower()\n",
        "  l_name = l_name.lower()\n",
        "  for f in range(len(f_name)):\n",
        "    if f == 0:\n",
        "      F_name += f_name[f].upper()\n",
        "    else:\n",
        "      F_name +=f_name[f]\n",
        "  for l in range(len(l_name)):\n",
        "    if l == 0:\n",
        "      L_name += l_name[l].upper()\n",
        "    else:\n",
        "      L_name +=l_name[l]   \n",
        " \n",
        "  print(F_name, L_name)\n",
        "\n",
        "\n",
        "format('esdioej','dsfjkjdaXU')"
      ],
      "metadata": {
        "colab": {
          "base_uri": "https://localhost:8080/"
        },
        "id": "8C-1VHLneN0P",
        "outputId": "d70912ba-d620-4337-993a-b87a56316d99"
      },
      "execution_count": null,
      "outputs": [
        {
          "output_type": "stream",
          "name": "stdout",
          "text": [
            "Esdioej Dsfjkjdaxu\n"
          ]
        }
      ]
    },
    {
      "cell_type": "markdown",
      "source": [
        "# Calculater"
      ],
      "metadata": {
        "id": "dHMKsoTIaiw7"
      }
    },
    {
      "cell_type": "code",
      "source": [
        "def add (first, next):\n",
        "  return first + next\n",
        "\n",
        "def subtract (first, next):\n",
        "  return first - next\n",
        "\n",
        "def dividide (first, next):\n",
        "  return first / next\n",
        "\n",
        "def multi (first, next):\n",
        "  return first * next\n",
        "\n",
        "first = int(input(\"what is your 1st number: \"))\n",
        "next = int(input(\"what is your next number: \"))\n",
        "\n",
        "operation_sym = {\n",
        "  \"+\": add,\n",
        "  \"-\": subtract,\n",
        "  \"/\": dividide,\n",
        "  \"*\": multi\n",
        "}\n",
        "for symbol in operation_sym:\n",
        "  print(symbol)\n",
        "operation = input(\"pick an operation: \")\n",
        "cal_function = operation_sym[operation]\n",
        "ans = cal_function(first,next)\n",
        "print(ans) "
      ],
      "metadata": {
        "id": "Ov6hzUS7ahWd"
      },
      "execution_count": null,
      "outputs": []
    },
    {
      "cell_type": "markdown",
      "source": [
        "# Running Sum of 1d Array"
      ],
      "metadata": {
        "id": "9tzqFmxKhlVr"
      }
    },
    {
      "cell_type": "code",
      "source": [
        "new_nums = []\n",
        "\n",
        "def runningSum(nums):\n",
        "  for i in range(len(nums)): # 取每个值 1，2，3，4\n",
        "    if i == 0:\n",
        "      new_nums.append(nums[i])# 先吧1 赋予新的list\n",
        "      num1 = nums[i]\n",
        "    else:\n",
        "       num = num1 + nums[i]  # 1+2=3\n",
        "       num1 = num\n",
        "       new_nums.append(num1) # 加入新的lis\n",
        "  return new_nums\n",
        "            \n",
        "nums = [1,2,3,4] \n",
        "runningSum(nums)"
      ],
      "metadata": {
        "colab": {
          "base_uri": "https://localhost:8080/"
        },
        "id": "0BG27AEehosQ",
        "outputId": "0ab4397e-5ba3-419d-b55c-2b2dbd1492fe"
      },
      "execution_count": null,
      "outputs": [
        {
          "output_type": "execute_result",
          "data": {
            "text/plain": [
              "[1, 3, 6, 10]"
            ]
          },
          "metadata": {},
          "execution_count": 3
        }
      ]
    },
    {
      "cell_type": "code",
      "source": [
        "def runningSum(nums):\n",
        "  a = 0\n",
        "  lis= []\n",
        "  for i in nums:\n",
        "    a += i\n",
        "    lis.append(a)\n",
        "  return(lis)\n",
        "nums = [1,2,3,4] \n",
        "runningSum(nums)"
      ],
      "metadata": {
        "colab": {
          "base_uri": "https://localhost:8080/"
        },
        "id": "UMqEcC3YU52A",
        "outputId": "14f55905-295b-4dcf-9fe8-e682b06f568f"
      },
      "execution_count": null,
      "outputs": [
        {
          "output_type": "execute_result",
          "data": {
            "text/plain": [
              "[1, 3, 6, 10]"
            ]
          },
          "metadata": {},
          "execution_count": 4
        }
      ]
    },
    {
      "cell_type": "markdown",
      "source": [
        "#1672. Richest Customer Wealth\n",
        "\n"
      ],
      "metadata": {
        "id": "yq3ApNh9Wqq3"
      }
    },
    {
      "cell_type": "code",
      "source": [
        "#my way\n",
        "def maximumWealth(accounts):\n",
        "  max = 0\n",
        "  for num in accounts: # [1,2,3] [3,2,1]\n",
        "    total = sum(num)\n",
        "    if total > max:\n",
        "      max = total\n",
        "  return max\n",
        "     \n",
        "\n",
        "accounts = [[1,5],[7,3],[3,5]]\n",
        "maximumWealth(accounts)\n"
      ],
      "metadata": {
        "colab": {
          "base_uri": "https://localhost:8080/"
        },
        "id": "Hcnv-j2cWq6N",
        "outputId": "f3a8abe2-7d0e-4d90-9fb8-bcd9e070ed99"
      },
      "execution_count": null,
      "outputs": [
        {
          "output_type": "execute_result",
          "data": {
            "text/plain": [
              "10"
            ]
          },
          "metadata": {},
          "execution_count": 67
        }
      ]
    },
    {
      "cell_type": "code",
      "source": [
        "def maximumWealth(accounts):\n",
        "  maxTotal = 0\n",
        "  for i in range(len(accounts)):\n",
        "    total = sum(accounts[i])\n",
        "    maxTotal = max(maxTotal,total)\n",
        "  return maxTotal\n",
        "\n",
        "\n",
        "accounts = [[1,2,3],[3,2,1]]\n",
        "maximumWealth(accounts)\n",
        "\n",
        "      \n"
      ],
      "metadata": {
        "colab": {
          "base_uri": "https://localhost:8080/",
          "height": 372
        },
        "id": "lPH5q17PXbkE",
        "outputId": "7b5af3ab-277b-4053-d4b1-3f97e552587d"
      },
      "execution_count": null,
      "outputs": [
        {
          "output_type": "error",
          "ename": "TypeError",
          "evalue": "ignored",
          "traceback": [
            "\u001b[0;31m---------------------------------------------------------------------------\u001b[0m",
            "\u001b[0;31mTypeError\u001b[0m                                 Traceback (most recent call last)",
            "\u001b[0;32m<ipython-input-78-a3a008a421a3>\u001b[0m in \u001b[0;36m<module>\u001b[0;34m()\u001b[0m\n\u001b[1;32m      8\u001b[0m \u001b[0;34m\u001b[0m\u001b[0m\n\u001b[1;32m      9\u001b[0m \u001b[0maccounts\u001b[0m \u001b[0;34m=\u001b[0m \u001b[0;34m[\u001b[0m\u001b[0;34m[\u001b[0m\u001b[0;36m1\u001b[0m\u001b[0;34m,\u001b[0m\u001b[0;36m2\u001b[0m\u001b[0;34m,\u001b[0m\u001b[0;36m3\u001b[0m\u001b[0;34m]\u001b[0m\u001b[0;34m,\u001b[0m\u001b[0;34m[\u001b[0m\u001b[0;36m3\u001b[0m\u001b[0;34m,\u001b[0m\u001b[0;36m2\u001b[0m\u001b[0;34m,\u001b[0m\u001b[0;36m1\u001b[0m\u001b[0;34m]\u001b[0m\u001b[0;34m]\u001b[0m\u001b[0;34m\u001b[0m\u001b[0;34m\u001b[0m\u001b[0m\n\u001b[0;32m---> 10\u001b[0;31m \u001b[0mmaximumWealth\u001b[0m\u001b[0;34m(\u001b[0m\u001b[0maccounts\u001b[0m\u001b[0;34m)\u001b[0m\u001b[0;34m\u001b[0m\u001b[0;34m\u001b[0m\u001b[0m\n\u001b[0m\u001b[1;32m     11\u001b[0m \u001b[0;34m\u001b[0m\u001b[0m\n\u001b[1;32m     12\u001b[0m \u001b[0;34m\u001b[0m\u001b[0m\n",
            "\u001b[0;32m<ipython-input-78-a3a008a421a3>\u001b[0m in \u001b[0;36mmaximumWealth\u001b[0;34m(accounts)\u001b[0m\n\u001b[1;32m      3\u001b[0m   \u001b[0;32mfor\u001b[0m \u001b[0mi\u001b[0m \u001b[0;32min\u001b[0m \u001b[0mrange\u001b[0m\u001b[0;34m(\u001b[0m\u001b[0mlen\u001b[0m\u001b[0;34m(\u001b[0m\u001b[0maccounts\u001b[0m\u001b[0;34m)\u001b[0m\u001b[0;34m)\u001b[0m\u001b[0;34m:\u001b[0m\u001b[0;34m\u001b[0m\u001b[0;34m\u001b[0m\u001b[0m\n\u001b[1;32m      4\u001b[0m     \u001b[0mtotal\u001b[0m \u001b[0;34m=\u001b[0m \u001b[0msum\u001b[0m\u001b[0;34m(\u001b[0m\u001b[0maccounts\u001b[0m\u001b[0;34m[\u001b[0m\u001b[0mi\u001b[0m\u001b[0;34m]\u001b[0m\u001b[0;34m)\u001b[0m\u001b[0;34m\u001b[0m\u001b[0;34m\u001b[0m\u001b[0m\n\u001b[0;32m----> 5\u001b[0;31m     \u001b[0mmaxTotal\u001b[0m \u001b[0;34m=\u001b[0m \u001b[0mmax\u001b[0m\u001b[0;34m(\u001b[0m\u001b[0mmaxTotal\u001b[0m\u001b[0;34m,\u001b[0m\u001b[0mtotal\u001b[0m\u001b[0;34m)\u001b[0m\u001b[0;34m\u001b[0m\u001b[0;34m\u001b[0m\u001b[0m\n\u001b[0m\u001b[1;32m      6\u001b[0m   \u001b[0;32mreturn\u001b[0m \u001b[0mmaxTotal\u001b[0m\u001b[0;34m\u001b[0m\u001b[0;34m\u001b[0m\u001b[0m\n\u001b[1;32m      7\u001b[0m \u001b[0;34m\u001b[0m\u001b[0m\n",
            "\u001b[0;31mTypeError\u001b[0m: 'int' object is not callable"
          ]
        }
      ]
    },
    {
      "cell_type": "code",
      "source": [
        ":\n"
      ],
      "metadata": {
        "id": "RB3kgD2faLpC"
      },
      "execution_count": null,
      "outputs": []
    },
    {
      "cell_type": "markdown",
      "source": [
        "# FizzBUzz"
      ],
      "metadata": {
        "id": "3Q0zdidaEKNG"
      }
    },
    {
      "cell_type": "code",
      "source": [
        "def fizzBuzz(n):\n",
        "      i = 0\n",
        "      lis = []\n",
        "      while i < n:\n",
        "          i +=1\n",
        "          if i % 3 == 0 and i % 5 == 0:\n",
        "              lis.append(\"FizzBuzz\")\n",
        "          elif i % 3 == 0:\n",
        "              lis.append(\"Fizz\")\n",
        "          elif i % 5 == 0:\n",
        "              lis.append(\"Buzz\")\n",
        "          else:\n",
        "              lis.append(str(i))\n",
        "      else:\n",
        "          return lis\n",
        "\n",
        "n = 15\n",
        "fizzBuzz(n)    "
      ],
      "metadata": {
        "colab": {
          "base_uri": "https://localhost:8080/"
        },
        "id": "ZLBhtlHvEMJq",
        "outputId": "4cfe9d62-b6ec-451f-d737-d5a95ea430ee"
      },
      "execution_count": null,
      "outputs": [
        {
          "output_type": "execute_result",
          "data": {
            "text/plain": [
              "['1',\n",
              " '2',\n",
              " 'Fizz',\n",
              " '4',\n",
              " 'Buzz',\n",
              " 'Fizz',\n",
              " '7',\n",
              " '8',\n",
              " 'Fizz',\n",
              " 'Buzz',\n",
              " '11',\n",
              " 'Fizz',\n",
              " '13',\n",
              " '14',\n",
              " 'FizzBuzz']"
            ]
          },
          "metadata": {},
          "execution_count": 9
        }
      ]
    },
    {
      "cell_type": "code",
      "source": [
        "lis = []\n",
        "for i in range(1,15+1):\n",
        "  if i % 3 == 0 and i % 5 == 0:\n",
        "      lis.append(\"FizzBuzz\")\n",
        "  elif i % 3 == 0:\n",
        "      lis.append(\"Fizz\")\n",
        "  elif i % 5 == 0:\n",
        "      lis.append(\"Buzz\")\n",
        "  else: \n",
        "      lis.append(str(i))\n",
        "\n",
        "lis"
      ],
      "metadata": {
        "colab": {
          "base_uri": "https://localhost:8080/"
        },
        "id": "rvHnWjWZHByC",
        "outputId": "02662aed-af65-45bd-c47c-78aacb03c006"
      },
      "execution_count": null,
      "outputs": [
        {
          "output_type": "execute_result",
          "data": {
            "text/plain": [
              "['1',\n",
              " '2',\n",
              " 'Fizz',\n",
              " '4',\n",
              " 'Buzz',\n",
              " 'Fizz',\n",
              " '7',\n",
              " '8',\n",
              " 'Fizz',\n",
              " 'Buzz',\n",
              " '11',\n",
              " 'Fizz',\n",
              " '13',\n",
              " '14',\n",
              " 'FizzBuzz']"
            ]
          },
          "metadata": {},
          "execution_count": 25
        }
      ]
    },
    {
      "cell_type": "markdown",
      "source": [
        "# 9. Palindrome Number\n"
      ],
      "metadata": {
        "id": "5gY5-SrfPAko"
      }
    },
    {
      "cell_type": "code",
      "source": [
        "# my code\n",
        "\n",
        "def isPalindrome(x):\n",
        "  x = str(x)\n",
        "  lis1 =[]\n",
        "  letter = \"\"\n",
        "  for i in reversed(x) :\n",
        "    letter += i\n",
        "  if letter == x:\n",
        "    return True\n",
        "  else:\n",
        "    return False\n",
        "\n",
        "x = -121\n",
        "isPalindrome(x)"
      ],
      "metadata": {
        "id": "sQNKUssjPBcz",
        "colab": {
          "base_uri": "https://localhost:8080/"
        },
        "outputId": "dbb81b7f-8538-4d36-9ee3-bfe3b45270cd"
      },
      "execution_count": 68,
      "outputs": [
        {
          "output_type": "execute_result",
          "data": {
            "text/plain": [
              "False"
            ]
          },
          "metadata": {},
          "execution_count": 68
        }
      ]
    },
    {
      "cell_type": "code",
      "source": [
        "# solution \n",
        "def isPalindrome(x):\n",
        "  if x < 0 : return False\n",
        "  div = 1\n",
        "  while x >= 10 * div:  \n",
        "    div = div * 10  # division 100\n",
        "\n",
        "\n",
        "  while x: \n",
        "    right = x % 10 # 1\n",
        "    left = x // div # 1\n",
        "    if left != right: return False\n",
        "    print(f\"x is {x}\")\n",
        "    x = (x % div) // 10  # 121 %10 = 1      21//10 = 2\n",
        "    print(f\"x1 is {x}\")\n",
        "    div = div // 100 \n",
        "  return True\n",
        "\n",
        "\n",
        "x = 121\n",
        "isPalindrome(x)"
      ],
      "metadata": {
        "colab": {
          "base_uri": "https://localhost:8080/"
        },
        "id": "xWMx6ArOFbib",
        "outputId": "fb548b35-f3cd-4f12-953d-ab0e9995051d"
      },
      "execution_count": 29,
      "outputs": [
        {
          "output_type": "stream",
          "name": "stdout",
          "text": [
            "x is 121\n",
            "x1 is 2\n",
            "x is 2\n",
            "x1 is 0\n"
          ]
        },
        {
          "output_type": "execute_result",
          "data": {
            "text/plain": [
              "True"
            ]
          },
          "metadata": {},
          "execution_count": 29
        }
      ]
    },
    {
      "cell_type": "markdown",
      "source": [
        "# 13. Roman to Integer"
      ],
      "metadata": {
        "id": "57Fe2foZN89Q"
      }
    },
    {
      "cell_type": "code",
      "source": [
        "\"\"\"\n",
        "Symbol        Value\n",
        "I             1\n",
        "V             5\n",
        "X             10\n",
        "L             50\n",
        "C             100\n",
        "D             500\n",
        "M             1000\n",
        "\n",
        "\n",
        "\n",
        "IV 4, IX 9, \n",
        "XL 40 -> L -X,  XC 90 -> C - X,\n",
        "CD 400 -> D - C, CM 900 -> M-C\n",
        "\"\"\" \n",
        "\n",
        "\n",
        "\n",
        "def romanToInt(s):\n",
        "  dic = {\"I\":1, \"V\":5, \"X\":10, \"L\":50, \"C\":100, \"D\":500, \"M\":1000}\n",
        "  lis = []\n",
        "  sum = 0\n",
        "  i = 0\n",
        "  while i < len(s)-1:  \n",
        "    #  如果出现 I,X,C 自动检测后面的字母\n",
        "    if s[i] == \"I\" and s[i+1] == \"V\": #IV = 4\n",
        "      sum = sum + 4\n",
        "      i += 2\n",
        "    elif s[i] == \"I\" and s[i+1] == \"X\":\n",
        "      sum = sum + 9\n",
        "      i += 2\n",
        "    elif s[i] == \"C\" and s[i+1] == \"M\":\n",
        "      sum = sum + 900\n",
        "      i += 2\n",
        "    elif s[i] == \"X\" and s[i+1] == \"C\":\n",
        "      sum = sum + 90\n",
        "      i += 2\n",
        "    else:\n",
        "      if s[i] in dic:       # 找对应 dic 里面的 all the number in the list ['L', 'V', 'I', 'I', 'I'] 50 5 111\n",
        "        sum += dic[s[i]]\n",
        "        i += 1\n",
        "  sum += dic[s[len(s)-1]]\n",
        "  return sum\n",
        "\n",
        "\n",
        "\n",
        "s = \"MCMXCIV\"  # M =1000, CM = 900, XC = 90 and IV = 4 \n",
        "romanToInt(s)\n"
      ],
      "metadata": {
        "colab": {
          "base_uri": "https://localhost:8080/"
        },
        "id": "oNuTSjPyN-d2",
        "outputId": "6bcec137-5cf2-4e3d-f076-d5ec657ae0ee"
      },
      "execution_count": 122,
      "outputs": [
        {
          "output_type": "execute_result",
          "data": {
            "text/plain": [
              "1999"
            ]
          },
          "metadata": {},
          "execution_count": 122
        }
      ]
    },
    {
      "cell_type": "code",
      "source": [
        "\"\"\"\n",
        "Symbol        Value\n",
        "I             1\n",
        "V             5\n",
        "X             10\n",
        "L             50\n",
        "C             100\n",
        "D             500\n",
        "M             1000\n",
        "\n",
        "\n",
        "\n",
        "IV 4, IX 9, \n",
        "XL 40 -> L -X,  XC 90 -> C - X,\n",
        "CD 400 -> D - C, CM 900 -> M-C\n",
        "\"\"\" \n",
        "\n",
        "\n",
        "def romanToInt(s):\n",
        "  dic = {\"I\":1, \"V\":5, \"X\":10, \"L\":50, \"C\":100, \"D\":500, \"M\":1000}\n",
        "  sum = 0\n",
        "  i = 0\n",
        "   # find every element in string\n",
        "  while i < len(s) - 1:\n",
        "    sum += dic[s[i]]\n",
        "    last_num = dic[s[i]]\n",
        "    if last_num < dic[s[i+1]]:\n",
        "      sum = sum - 2 * last_num\n",
        "      i += 1\n",
        "    else:\n",
        "      i += 1\n",
        "  sum += dic[s[len(s)-1]]\n",
        "  return sum\n",
        "\n",
        "\n",
        "\n",
        "\n",
        "\n",
        "s = \"III\"\n",
        "romanToInt(s)\n",
        "\n",
        "\n"
      ],
      "metadata": {
        "colab": {
          "base_uri": "https://localhost:8080/"
        },
        "id": "flqYjswcXxda",
        "outputId": "08a00836-e76f-4834-e713-aa40bb86e68b"
      },
      "execution_count": 118,
      "outputs": [
        {
          "output_type": "execute_result",
          "data": {
            "text/plain": [
              "3"
            ]
          },
          "metadata": {},
          "execution_count": 118
        }
      ]
    }
  ]
}