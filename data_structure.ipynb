{
  "nbformat": 4,
  "nbformat_minor": 0,
  "metadata": {
    "colab": {
      "name": "data_structure.ipynb",
      "provenance": [],
      "collapsed_sections": [],
      "authorship_tag": "ABX9TyMuoTrqX/SwypZPbiuw5XRX",
      "include_colab_link": true
    },
    "kernelspec": {
      "name": "python3",
      "display_name": "Python 3"
    },
    "language_info": {
      "name": "python"
    }
  },
  "cells": [
    {
      "cell_type": "markdown",
      "metadata": {
        "id": "view-in-github",
        "colab_type": "text"
      },
      "source": [
        "<a href=\"https://colab.research.google.com/github/penny1xu/Leetcode-practice/blob/main/data_structure.ipynb\" target=\"_parent\"><img src=\"https://colab.research.google.com/assets/colab-badge.svg\" alt=\"Open In Colab\"/></a>"
      ]
    },
    {
      "cell_type": "code",
      "execution_count": 6,
      "metadata": {
        "colab": {
          "base_uri": "https://localhost:8080/"
        },
        "id": "6bIUr22zJTal",
        "outputId": "96c253e2-1547-4234-e09c-c9823d18753c"
      },
      "outputs": [
        {
          "output_type": "stream",
          "name": "stdout",
          "text": [
            "('so', 'much')\n",
            "house shoe\n"
          ]
        }
      ],
      "source": [
        "#index\n",
        "x = 'house '+ 'shoe'\n",
        "s = [(\"lovd\",\"you\"),(\"so\",\"much\")]\n",
        "print(s[1])\n",
        "print(x)"
      ]
    },
    {
      "cell_type": "code",
      "source": [
        "#tuple\n",
        "z = (\"lovd\",\"you\") +(\"too\",)\n",
        "print(z)\n",
        "\n",
        "#list\n",
        "y = ['pig','kevin']+['house']\n",
        "print(y)"
      ],
      "metadata": {
        "colab": {
          "base_uri": "https://localhost:8080/"
        },
        "id": "pyAPxh1wL1fB",
        "outputId": "d83a1807-f34a-4ea7-bfba-3be973ab7ba8"
      },
      "execution_count": 12,
      "outputs": [
        {
          "output_type": "stream",
          "name": "stdout",
          "text": [
            "('lovd', 'you', 'too')\n",
            "['pig', 'kevin', 'house']\n"
          ]
        }
      ]
    },
    {
      "cell_type": "code",
      "source": [
        "#string\n",
        "x = 'bug'*3\n",
        "print(x)"
      ],
      "metadata": {
        "colab": {
          "base_uri": "https://localhost:8080/"
        },
        "id": "FIPDmOkAMk9B",
        "outputId": "a594e7ae-a779-442a-dbd5-2ad568a90353"
      },
      "execution_count": 13,
      "outputs": [
        {
          "output_type": "stream",
          "name": "stdout",
          "text": [
            "bugbugbug\n"
          ]
        }
      ]
    },
    {
      "cell_type": "code",
      "source": [
        "#boolean\n",
        "x = 'bug'\n",
        "print('u' in x)\n",
        "\n",
        "y =['pig','kevin']+['house']\n",
        "print('p' in y)\n",
        "print('house' in y)"
      ],
      "metadata": {
        "colab": {
          "base_uri": "https://localhost:8080/"
        },
        "id": "LqKOTKfKMtUm",
        "outputId": "35943011-61f1-4d88-a46e-48fc350612d3"
      },
      "execution_count": 18,
      "outputs": [
        {
          "output_type": "stream",
          "name": "stdout",
          "text": [
            "True\n",
            "False\n",
            "True\n"
          ]
        }
      ]
    },
    {
      "cell_type": "code",
      "source": [
        "#iteration\n",
        "\n",
        "x = [1,2,3]\n",
        "for item in x:\n",
        "  print(item)\n",
        "\n",
        "#enumerate return index and items\n",
        "for index,item in enumerate(x):\n",
        "  print(index,item)"
      ],
      "metadata": {
        "colab": {
          "base_uri": "https://localhost:8080/"
        },
        "id": "EbR88e62NIIk",
        "outputId": "0d49beff-ce0b-4f3f-ae09-3433a1e36d28"
      },
      "execution_count": 24,
      "outputs": [
        {
          "output_type": "stream",
          "name": "stdout",
          "text": [
            "1\n",
            "2\n",
            "3\n",
            "0 1\n",
            "1 2\n",
            "2 3\n"
          ]
        }
      ]
    },
    {
      "cell_type": "code",
      "source": [
        "# check length\n",
        "print(len(x))"
      ],
      "metadata": {
        "colab": {
          "base_uri": "https://localhost:8080/"
        },
        "id": "oQ3TSrkQOJ5z",
        "outputId": "85956aaa-d2f0-4401-c099-dee5df7d371e"
      },
      "execution_count": 25,
      "outputs": [
        {
          "output_type": "stream",
          "name": "stdout",
          "text": [
            "3\n"
          ]
        }
      ]
    },
    {
      "cell_type": "code",
      "source": [
        "#sort \n",
        "\n",
        "z = ('kevin','niklas','jenny','craig')\n",
        "print(sorted(z))\n",
        "# 第二个字母sorted\n",
        "print(sorted(z, key = lambda k:k[1]))"
      ],
      "metadata": {
        "colab": {
          "base_uri": "https://localhost:8080/"
        },
        "id": "JlIKzflmO4fK",
        "outputId": "6b190979-eaff-40ed-8cba-dce49fda0c2d"
      },
      "execution_count": 28,
      "outputs": [
        {
          "output_type": "stream",
          "name": "stdout",
          "text": [
            "['craig', 'jenny', 'kevin', 'niklas']\n",
            "['kevin', 'jenny', 'niklas', 'craig']\n"
          ]
        }
      ]
    },
    {
      "cell_type": "code",
      "source": [
        "#count（item)\n",
        "#string\n",
        "x = 'hippo'\n",
        "print(x.count('p'))\n",
        "\n",
        "#list\n",
        "y = ['pig','cow','horse','cow']\n",
        "print(y.count('cow'))\n",
        "\n",
        "#tuple\n",
        "z= ('Kevin', 'Niklas','Jenny')\n",
        "print(z.count('Kevin'))\n"
      ],
      "metadata": {
        "colab": {
          "base_uri": "https://localhost:8080/"
        },
        "id": "xkzPZxAoPVHD",
        "outputId": "0e01d2b5-4512-45a0-ff16-8f5bda73a485"
      },
      "execution_count": 33,
      "outputs": [
        {
          "output_type": "stream",
          "name": "stdout",
          "text": [
            "2\n",
            "2\n",
            "1\n"
          ]
        }
      ]
    },
    {
      "cell_type": "code",
      "source": [
        "# unpacking \n",
        "y = ['pig','cow','horse','cow']\n",
        "a,b,c,d = y\n",
        "print(a,b,d)\n"
      ],
      "metadata": {
        "colab": {
          "base_uri": "https://localhost:8080/"
        },
        "id": "8vMWg2xfQOQW",
        "outputId": "e0c39b55-07a0-447b-812a-0a0a37dd552e"
      },
      "execution_count": 37,
      "outputs": [
        {
          "output_type": "stream",
          "name": "stdout",
          "text": [
            "pig cow cow\n"
          ]
        }
      ]
    },
    {
      "cell_type": "markdown",
      "source": [
        "**Lists**"
      ],
      "metadata": {
        "id": "6iTyInNmH9am"
      }
    },
    {
      "cell_type": "code",
      "source": [
        "# creating a new list\n",
        "x = list()\n",
        "y = ['a',25,'dog',8.4]\n",
        "tuplel = (10,20)\n",
        "z = list(tuplel)\n",
        "s = list(y)\n",
        "print(s)\n",
        "\n",
        "\n",
        "a = [m for m in range(8)]\n",
        "print(a)\n",
        "\n",
        "b = [i**2 for i in range(10) if i > 4]\n",
        "print(b)"
      ],
      "metadata": {
        "colab": {
          "base_uri": "https://localhost:8080/"
        },
        "id": "-5dil81iS2nn",
        "outputId": "3df27ad0-6fec-45b9-e3d7-f1a006c9626d"
      },
      "execution_count": 2,
      "outputs": [
        {
          "output_type": "stream",
          "name": "stdout",
          "text": [
            "['a', 25, 'dog', 8.4]\n",
            "[0, 1, 2, 3, 4, 5, 6, 7]\n",
            "[25, 36, 49, 64, 81]\n"
          ]
        }
      ]
    },
    {
      "cell_type": "code",
      "source": [
        "x = [4,5,6,7,0]\n",
        "del(x[1])\n",
        "print(x)\n",
        "del(x)\n"
      ],
      "metadata": {
        "colab": {
          "base_uri": "https://localhost:8080/",
          "height": 264
        },
        "id": "JDklZg_Xyy9L",
        "outputId": "d0b941b1-9bdf-4423-96b7-7f90b9d62cd0"
      },
      "execution_count": 6,
      "outputs": [
        {
          "output_type": "stream",
          "name": "stdout",
          "text": [
            "[4, 6, 7, 0]\n"
          ]
        },
        {
          "output_type": "error",
          "ename": "NameError",
          "evalue": "ignored",
          "traceback": [
            "\u001b[0;31m---------------------------------------------------------------------------\u001b[0m",
            "\u001b[0;31mNameError\u001b[0m                                 Traceback (most recent call last)",
            "\u001b[0;32m<ipython-input-6-56e060580c48>\u001b[0m in \u001b[0;36m<module>\u001b[0;34m()\u001b[0m\n\u001b[1;32m      3\u001b[0m \u001b[0mprint\u001b[0m\u001b[0;34m(\u001b[0m\u001b[0mx\u001b[0m\u001b[0;34m)\u001b[0m\u001b[0;34m\u001b[0m\u001b[0;34m\u001b[0m\u001b[0m\n\u001b[1;32m      4\u001b[0m \u001b[0;32mdel\u001b[0m\u001b[0;34m(\u001b[0m\u001b[0mx\u001b[0m\u001b[0;34m)\u001b[0m\u001b[0;34m\u001b[0m\u001b[0;34m\u001b[0m\u001b[0m\n\u001b[0;32m----> 5\u001b[0;31m \u001b[0mprint\u001b[0m\u001b[0;34m(\u001b[0m\u001b[0mx\u001b[0m\u001b[0;34m)\u001b[0m\u001b[0;34m\u001b[0m\u001b[0;34m\u001b[0m\u001b[0m\n\u001b[0m",
            "\u001b[0;31mNameError\u001b[0m: name 'x' is not defined"
          ]
        }
      ]
    },
    {
      "cell_type": "code",
      "source": [
        "#append\n",
        "x = [ 3,4,5,6,7]\n",
        "x.append(0)\n",
        "print(x)"
      ],
      "metadata": {
        "colab": {
          "base_uri": "https://localhost:8080/"
        },
        "id": "3JjKVmmvCDEb",
        "outputId": "5e7f3d9b-12b8-410c-a5bc-2330de4959b5"
      },
      "execution_count": 1,
      "outputs": [
        {
          "output_type": "stream",
          "name": "stdout",
          "text": [
            "[3, 4, 5, 6, 7, 0]\n"
          ]
        }
      ]
    },
    {
      "cell_type": "code",
      "source": [
        "x = [5,6,7,8,9,6,7]\n",
        "x.pop()\n",
        "print(x)\n",
        "print(x.pop())\n",
        "\n",
        "x.remove(6)\n",
        "\n",
        "x.reverse()"
      ],
      "metadata": {
        "colab": {
          "base_uri": "https://localhost:8080/"
        },
        "id": "RJLYzkzWHw-4",
        "outputId": "d6d46b2c-973b-42f7-a41e-a67270cc76ae"
      },
      "execution_count": 3,
      "outputs": [
        {
          "output_type": "stream",
          "name": "stdout",
          "text": [
            "[5, 6, 7, 8, 9, 6]\n",
            "6\n"
          ]
        }
      ]
    },
    {
      "cell_type": "code",
      "source": [
        "x = [5,6,7,8,9,6,7]\n",
        "\n",
        "x.sort()\n",
        "\n",
        "print(x)\n",
        "\n",
        "#reverse sort\n",
        "\n",
        "x.sort(reverse=True)\n",
        "print(x)"
      ],
      "metadata": {
        "colab": {
          "base_uri": "https://localhost:8080/"
        },
        "id": "GsedvBpxIIqg",
        "outputId": "8d245017-1793-4e58-ee18-6019c838e515"
      },
      "execution_count": 5,
      "outputs": [
        {
          "output_type": "stream",
          "name": "stdout",
          "text": [
            "[5, 6, 6, 7, 7, 8, 9]\n",
            "[9, 8, 7, 7, 6, 6, 5]\n"
          ]
        }
      ]
    },
    {
      "cell_type": "code",
      "source": [
        "#Tuple(要有逗号)\n",
        "# 不能删或者改\n",
        "x = ()\n",
        "x = (1,2,3)\n",
        "x = 1,2,3\n",
        "x = 2,\n",
        "print(x,type(x))\n",
        "\n",
        "list1 = [2,4,6]\n",
        "x = tuple(list1)\n",
        "\n",
        "print(x,type(x))\n",
        "\n",
        "\n",
        "del(x[1]) # error tuple cannot delete\n",
        "x[1] = 8 # error tuple cannot add value"
      ],
      "metadata": {
        "id": "puHkkDt-IZOZ"
      },
      "execution_count": null,
      "outputs": []
    },
    {
      "cell_type": "code",
      "source": [
        "y = ([1, 2], 3)\n",
        "del(y[0][1]) # 0 - 选择 [1,2] \\ 1 - [1,2]中的 2 这个数字\n",
        "print(y)\n",
        "\n",
        "y +=(4,) # concatenating two tuples\n",
        "print(y)"
      ],
      "metadata": {
        "colab": {
          "base_uri": "https://localhost:8080/"
        },
        "id": "u7tsUV1q8iz5",
        "outputId": "77e518ff-c5af-4bed-c96f-c78f4178ecf9"
      },
      "execution_count": 11,
      "outputs": [
        {
          "output_type": "stream",
          "name": "stdout",
          "text": [
            "([1], 3)\n",
            "([1], 3, 4)\n"
          ]
        }
      ]
    },
    {
      "cell_type": "markdown",
      "source": [
        "**Sets**\n"
      ],
      "metadata": {
        "id": "ozSrteUf-i09"
      }
    },
    {
      "cell_type": "code",
      "source": [
        "# sets\n",
        "x = {3,5,3,5,8,9} # 重复的移调了\n",
        "print(x)\n",
        "\n",
        "y = set()\n",
        "print(y)\n",
        "\n",
        "list1 = [2,3,4,4]\n",
        "z = set(list1)\n",
        "print(z)\n",
        "\n",
        "#add item in set\n",
        "x.add(7)\n",
        "\n",
        "#remove item in set\n",
        "x.remove(3)\n",
        "\n",
        "#check membership \n",
        "print(6 in x)\n",
        "\n",
        "# pop random item from set x\n",
        "print(x.pop(),x)\n",
        "\n",
        "#delete all item\n",
        "x.clear()"
      ],
      "metadata": {
        "colab": {
          "base_uri": "https://localhost:8080/"
        },
        "id": "3pWVeZ8T7zGq",
        "outputId": "4eabcb2c-825b-470e-ce6c-2cb00be0d573"
      },
      "execution_count": 19,
      "outputs": [
        {
          "output_type": "stream",
          "name": "stdout",
          "text": [
            "{8, 9, 3, 5}\n",
            "set()\n",
            "{2, 3, 4}\n",
            "False\n",
            "5 {7, 8, 9}\n"
          ]
        }
      ]
    },
    {
      "cell_type": "code",
      "source": [
        "s1 = {1,2,3}\n",
        "s2 = {3,4,5}\n",
        "\n",
        "print(s1 & s2) # intersection is 3\n",
        "print(s1 | s2) # union \n",
        "print(s1 ^ s2) # excusive 没有 3\n",
        "print(s1 - s2) # \n",
        "print(s1 <= s2) # subset of other set\n",
        "print( s1 >= s2)  # return false\n",
        "\n",
        "\n"
      ],
      "metadata": {
        "colab": {
          "base_uri": "https://localhost:8080/"
        },
        "id": "OxrQWxfCALCC",
        "outputId": "217ef4e1-1125-4c64-f55b-800dda7f5962"
      },
      "execution_count": 2,
      "outputs": [
        {
          "output_type": "stream",
          "name": "stdout",
          "text": [
            "{3}\n",
            "{1, 2, 3, 4, 5}\n",
            "{1, 2, 4, 5}\n",
            "{1, 2}\n",
            "False\n",
            "False\n"
          ]
        }
      ]
    },
    {
      "cell_type": "markdown",
      "source": [
        "**Dictionaries**\n",
        "connot be sort"
      ],
      "metadata": {
        "id": "e_dCQhAbYcuL"
      }
    },
    {
      "cell_type": "code",
      "source": [
        "x = {'pork':25.3, 'beef':33.8,'chicken': 22.7}\n",
        "print(x)\n",
        "\n",
        "# pass the list of tuples\n",
        "x = dict([('pork',25.3),('beef',33.8),('chicken', 22.7)]) # tuples contain two Items\n",
        "print(x)\n",
        "\n",
        "x = dict(pork = 25.3 , beef = 33.8, chicken = 22.7,shrimp = 30)\n",
        "print(x)\n",
        "\n",
        "# add\n",
        "if 'shrimp' in x:\n",
        "  print(\"has shrimp\")\n",
        "else:\n",
        "  x['shrimp'] =38.8\n",
        "  print(x)\n",
        "\n",
        "#delete an item( 只delete 了key)\n",
        "del(x['shrimp'])\n",
        "print(x)\n",
        "\n",
        "# delete all \n",
        "x.clear()\n",
        "\n",
        "# delete dic x\n",
        "del(x)"
      ],
      "metadata": {
        "colab": {
          "base_uri": "https://localhost:8080/"
        },
        "id": "e3BsI109YiBS",
        "outputId": "198f40f5-91e6-4f24-bfdf-883af8f13427"
      },
      "execution_count": 14,
      "outputs": [
        {
          "output_type": "stream",
          "name": "stdout",
          "text": [
            "{'pork': 25.3, 'beef': 33.8, 'chicken': 22.7}\n",
            "{'pork': 25.3, 'beef': 33.8, 'chicken': 22.7}\n",
            "{'pork': 25.3, 'beef': 33.8, 'chicken': 22.7, 'shrimp': 30}\n",
            "has shrimp\n",
            "{'pork': 25.3, 'beef': 33.8, 'chicken': 22.7}\n"
          ]
        }
      ]
    },
    {
      "cell_type": "markdown",
      "source": [
        "**Accessing keys and values in a dict**\n"
      ],
      "metadata": {
        "id": "DzPlarbkaagW"
      }
    },
    {
      "cell_type": "code",
      "source": [
        "y = {'pork':25.3, 'beef':33.8,'chicken': 22.7}\n",
        "print(y.keys())\n",
        "print(y.values())\n",
        "print(y.items())\n",
        "\n",
        "# check the keys\n",
        "print('beef' in y)\n",
        "\n",
        "# check the value\n",
        "print(33.8 in y.values())"
      ],
      "metadata": {
        "colab": {
          "base_uri": "https://localhost:8080/"
        },
        "id": "P7ihcu04aZNE",
        "outputId": "e4083ee4-75a6-402b-c1b9-9ad252499099"
      },
      "execution_count": 25,
      "outputs": [
        {
          "output_type": "stream",
          "name": "stdout",
          "text": [
            "dict_keys(['pork', 'beef', 'chicken'])\n",
            "dict_values([25.3, 33.8, 22.7])\n",
            "dict_items([('pork', 25.3), ('beef', 33.8), ('chicken', 22.7)])\n",
            "True\n",
            "True\n"
          ]
        }
      ]
    },
    {
      "cell_type": "markdown",
      "source": [
        "**iterating a dict**"
      ],
      "metadata": {
        "id": "uNsl2OMebXiX"
      }
    },
    {
      "cell_type": "code",
      "source": [
        "for key in y:\n",
        "  print(key,y[key])\n",
        "\n",
        "for key,value in y.items():\n",
        "  print(key,value)\n"
      ],
      "metadata": {
        "colab": {
          "base_uri": "https://localhost:8080/"
        },
        "id": "kFYEKKDibWaQ",
        "outputId": "ebb6bc6d-57dc-427b-e209-6c776af1d519"
      },
      "execution_count": 29,
      "outputs": [
        {
          "output_type": "stream",
          "name": "stdout",
          "text": [
            "pork 25.3\n",
            "beef 33.8\n",
            "chicken 22.7\n",
            "pork 25.3\n",
            "beef 33.8\n",
            "chicken 22.7\n"
          ]
        }
      ]
    },
    {
      "cell_type": "markdown",
      "source": [
        "## **Python List Comprehensions**"
      ],
      "metadata": {
        "id": "T9dZydsJcsP0"
      }
    },
    {
      "cell_type": "code",
      "source": [
        "under_10 = [x for x in range(10)]\n",
        "print(under_10)\n"
      ],
      "metadata": {
        "colab": {
          "base_uri": "https://localhost:8080/"
        },
        "id": "OIyQo-qicyhd",
        "outputId": "f51bd366-ddaf-40d7-e4c7-0a76714983ef"
      },
      "execution_count": 32,
      "outputs": [
        {
          "output_type": "stream",
          "name": "stdout",
          "text": [
            "[0, 1, 2, 3, 4, 5, 6, 7, 8, 9]\n"
          ]
        }
      ]
    },
    {
      "cell_type": "code",
      "source": [
        "# squared values\n",
        "squares = [x ** 2 for x in under_10] \n",
        "print(squares)\n",
        "\n",
        "squares = [x ** 2 for x in under_10 if x >2] \n",
        "print(squares)\n"
      ],
      "metadata": {
        "colab": {
          "base_uri": "https://localhost:8080/"
        },
        "id": "IklBVqURdcfm",
        "outputId": "57267975-acd0-4963-b331-965d459233ea"
      },
      "execution_count": 43,
      "outputs": [
        {
          "output_type": "stream",
          "name": "stdout",
          "text": [
            "[0, 1, 4, 9, 16, 25, 36, 49, 64, 81]\n",
            "[9, 16, 25, 36, 49, 64, 81]\n"
          ]
        }
      ]
    },
    {
      "cell_type": "code",
      "source": [
        "# get odd numbers using mod\n",
        "odds = [x for x in range(10) if x% 2 ==1]\n",
        "print('odds' + str(odds))"
      ],
      "metadata": {
        "colab": {
          "base_uri": "https://localhost:8080/"
        },
        "id": "ZL-TSXKueG15",
        "outputId": "6a10970d-74a5-4b10-8427-9d4b3713a502"
      },
      "execution_count": 47,
      "outputs": [
        {
          "output_type": "stream",
          "name": "stdout",
          "text": [
            "odds[1, 3, 5, 7, 9]\n"
          ]
        }
      ]
    },
    {
      "cell_type": "code",
      "source": [
        "ten_x = [x * 10 for x in range(10)]\n",
        "print('ten_x:' + str(ten_x) )"
      ],
      "metadata": {
        "colab": {
          "base_uri": "https://localhost:8080/"
        },
        "id": "P5BCQI55e0Wr",
        "outputId": "a963aa05-782e-4bef-f42e-cd22649404f0"
      },
      "execution_count": 49,
      "outputs": [
        {
          "output_type": "stream",
          "name": "stdout",
          "text": [
            "ten_x:[0, 10, 20, 30, 40, 50, 60, 70, 80, 90]\n"
          ]
        }
      ]
    },
    {
      "cell_type": "code",
      "source": [
        "s = 'I love 2 go t0 the store 7 times a w3ek'\n",
        "nums = [x for x in s  if x.isnumeric()]\n",
        "print('nums:' + '' .join(nums))"
      ],
      "metadata": {
        "colab": {
          "base_uri": "https://localhost:8080/"
        },
        "id": "9gwXEQavfuUi",
        "outputId": "4abfe2a1-ff8c-47b2-d8b9-c5f1ab9b5ad3"
      },
      "execution_count": 55,
      "outputs": [
        {
          "output_type": "stream",
          "name": "stdout",
          "text": [
            "nums:2073\n"
          ]
        }
      ]
    },
    {
      "cell_type": "code",
      "source": [
        "names = ['Cosmo', 'Pedro', \"Anu\",'Ray']\n",
        "idx = [ k for k,v in enumerate(names) if v =='Anu']\n",
        "print('index = ' +str(idx[0]))\n"
      ],
      "metadata": {
        "colab": {
          "base_uri": "https://localhost:8080/"
        },
        "id": "7rWOIhWnhTKf",
        "outputId": "f081b009-00ab-4626-b02e-b4f549f92fdd"
      },
      "execution_count": 63,
      "outputs": [
        {
          "output_type": "stream",
          "name": "stdout",
          "text": [
            "index = 2\n"
          ]
        }
      ]
    },
    {
      "cell_type": "code",
      "source": [
        "import random\n",
        "letters = [x for x in 'ABCDEF']\n",
        "random.shuffle(letters)\n",
        "letrs = [a for a in letters if a !='C']\n",
        "print(letters,letrs)\n"
      ],
      "metadata": {
        "colab": {
          "base_uri": "https://localhost:8080/"
        },
        "id": "xKD8qZ_LitQl",
        "outputId": "69019c63-25c8-4098-9a8c-109233a4c3e6"
      },
      "execution_count": 72,
      "outputs": [
        {
          "output_type": "stream",
          "name": "stdout",
          "text": [
            "['A', 'D', 'F', 'B', 'C', 'E'] ['A', 'D', 'F', 'B', 'E']\n"
          ]
        }
      ]
    },
    {
      "cell_type": "code",
      "source": [
        "nums = [5,3,10,18,6,7]\n",
        "new_list = [x if x%2 ==0 else 10* x for x in nums]\n",
        "print('new list: ' + str(new_list))\n"
      ],
      "metadata": {
        "colab": {
          "base_uri": "https://localhost:8080/"
        },
        "id": "jM0_UvK4kL5H",
        "outputId": "37e57967-4ca5-4997-c26b-a54dbd8f00af"
      },
      "execution_count": 73,
      "outputs": [
        {
          "output_type": "stream",
          "name": "stdout",
          "text": [
            "new list: [50, 30, 10, 18, 6, 70]\n"
          ]
        }
      ]
    },
    {
      "cell_type": "code",
      "source": [
        "a = [[1,2],[3,4]]\n",
        "new_list = [x for b in a for x in b]\n",
        "print(new_list)\n"
      ],
      "metadata": {
        "colab": {
          "base_uri": "https://localhost:8080/"
        },
        "id": "tfbiung4a0nM",
        "outputId": "82b68a90-3e2d-4fe5-da40-12b39ec2093b"
      },
      "execution_count": 4,
      "outputs": [
        {
          "output_type": "stream",
          "name": "stdout",
          "text": [
            "[1, 2, 3, 4]\n"
          ]
        }
      ]
    },
    {
      "cell_type": "markdown",
      "source": [
        "# **Stacks, Queues & Heaps**"
      ],
      "metadata": {
        "id": "RZ027kw8bv1D"
      }
    },
    {
      "cell_type": "code",
      "source": [
        ""
      ],
      "metadata": {
        "id": "JJHGhNM5b3Wj"
      },
      "execution_count": null,
      "outputs": []
    }
  ]
}