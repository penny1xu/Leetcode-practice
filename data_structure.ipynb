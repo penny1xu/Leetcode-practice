{
  "nbformat": 4,
  "nbformat_minor": 0,
  "metadata": {
    "colab": {
      "name": "data_structure.ipynb",
      "provenance": [],
      "collapsed_sections": [],
      "authorship_tag": "ABX9TyP2f9sfqS9MHEIfUQ1t+NsK",
      "include_colab_link": true
    },
    "kernelspec": {
      "name": "python3",
      "display_name": "Python 3"
    },
    "language_info": {
      "name": "python"
    }
  },
  "cells": [
    {
      "cell_type": "markdown",
      "metadata": {
        "id": "view-in-github",
        "colab_type": "text"
      },
      "source": [
        "<a href=\"https://colab.research.google.com/github/penny1xu/Leetcode-practice/blob/main/data_structure.ipynb\" target=\"_parent\"><img src=\"https://colab.research.google.com/assets/colab-badge.svg\" alt=\"Open In Colab\"/></a>"
      ]
    },
    {
      "cell_type": "code",
      "execution_count": 6,
      "metadata": {
        "colab": {
          "base_uri": "https://localhost:8080/"
        },
        "id": "6bIUr22zJTal",
        "outputId": "96c253e2-1547-4234-e09c-c9823d18753c"
      },
      "outputs": [
        {
          "output_type": "stream",
          "name": "stdout",
          "text": [
            "('so', 'much')\n",
            "house shoe\n"
          ]
        }
      ],
      "source": [
        "#index\n",
        "x = 'house '+ 'shoe'\n",
        "s = [(\"lovd\",\"you\"),(\"so\",\"much\")]\n",
        "print(s[1])\n",
        "print(x)"
      ]
    },
    {
      "cell_type": "code",
      "source": [
        "#tuple\n",
        "z = (\"lovd\",\"you\") +(\"too\",)\n",
        "print(z)\n",
        "\n",
        "#list\n",
        "y = ['pig','kevin']+['house']\n",
        "print(y)"
      ],
      "metadata": {
        "colab": {
          "base_uri": "https://localhost:8080/"
        },
        "id": "pyAPxh1wL1fB",
        "outputId": "d83a1807-f34a-4ea7-bfba-3be973ab7ba8"
      },
      "execution_count": 12,
      "outputs": [
        {
          "output_type": "stream",
          "name": "stdout",
          "text": [
            "('lovd', 'you', 'too')\n",
            "['pig', 'kevin', 'house']\n"
          ]
        }
      ]
    },
    {
      "cell_type": "code",
      "source": [
        "#string\n",
        "x = 'bug'*3\n",
        "print(x)"
      ],
      "metadata": {
        "colab": {
          "base_uri": "https://localhost:8080/"
        },
        "id": "FIPDmOkAMk9B",
        "outputId": "a594e7ae-a779-442a-dbd5-2ad568a90353"
      },
      "execution_count": 13,
      "outputs": [
        {
          "output_type": "stream",
          "name": "stdout",
          "text": [
            "bugbugbug\n"
          ]
        }
      ]
    },
    {
      "cell_type": "code",
      "source": [
        "#boolean\n",
        "x = 'bug'\n",
        "print('u' in x)\n",
        "\n",
        "y =['pig','kevin']+['house']\n",
        "print('p' in y)\n",
        "print('house' in y)"
      ],
      "metadata": {
        "colab": {
          "base_uri": "https://localhost:8080/"
        },
        "id": "LqKOTKfKMtUm",
        "outputId": "35943011-61f1-4d88-a46e-48fc350612d3"
      },
      "execution_count": 18,
      "outputs": [
        {
          "output_type": "stream",
          "name": "stdout",
          "text": [
            "True\n",
            "False\n",
            "True\n"
          ]
        }
      ]
    },
    {
      "cell_type": "code",
      "source": [
        "#iteration\n",
        "\n",
        "x = [1,2,3]\n",
        "for item in x:\n",
        "  print(item)\n",
        "\n",
        "#enumerate return index and items\n",
        "for index,item in enumerate(x):\n",
        "  print(index,item)"
      ],
      "metadata": {
        "colab": {
          "base_uri": "https://localhost:8080/"
        },
        "id": "EbR88e62NIIk",
        "outputId": "0d49beff-ce0b-4f3f-ae09-3433a1e36d28"
      },
      "execution_count": 24,
      "outputs": [
        {
          "output_type": "stream",
          "name": "stdout",
          "text": [
            "1\n",
            "2\n",
            "3\n",
            "0 1\n",
            "1 2\n",
            "2 3\n"
          ]
        }
      ]
    },
    {
      "cell_type": "code",
      "source": [
        "# check length\n",
        "print(len(x))"
      ],
      "metadata": {
        "colab": {
          "base_uri": "https://localhost:8080/"
        },
        "id": "oQ3TSrkQOJ5z",
        "outputId": "85956aaa-d2f0-4401-c099-dee5df7d371e"
      },
      "execution_count": 25,
      "outputs": [
        {
          "output_type": "stream",
          "name": "stdout",
          "text": [
            "3\n"
          ]
        }
      ]
    },
    {
      "cell_type": "code",
      "source": [
        "#sort \n",
        "\n",
        "z = ('kevin','niklas','jenny','craig')\n",
        "print(sorted(z))\n",
        "# 第二个字母sorted\n",
        "print(sorted(z, key = lambda k:k[1]))"
      ],
      "metadata": {
        "colab": {
          "base_uri": "https://localhost:8080/"
        },
        "id": "JlIKzflmO4fK",
        "outputId": "6b190979-eaff-40ed-8cba-dce49fda0c2d"
      },
      "execution_count": 28,
      "outputs": [
        {
          "output_type": "stream",
          "name": "stdout",
          "text": [
            "['craig', 'jenny', 'kevin', 'niklas']\n",
            "['kevin', 'jenny', 'niklas', 'craig']\n"
          ]
        }
      ]
    },
    {
      "cell_type": "code",
      "source": [
        "#count（item)\n",
        "#string\n",
        "x = 'hippo'\n",
        "print(x.count('p'))\n",
        "\n",
        "#list\n",
        "y = ['pig','cow','horse','cow']\n",
        "print(y.count('cow'))\n",
        "\n",
        "#tuple\n",
        "z= ('Kevin', 'Niklas','Jenny')\n",
        "print(z.count('Kevin'))\n"
      ],
      "metadata": {
        "colab": {
          "base_uri": "https://localhost:8080/"
        },
        "id": "xkzPZxAoPVHD",
        "outputId": "0e01d2b5-4512-45a0-ff16-8f5bda73a485"
      },
      "execution_count": 33,
      "outputs": [
        {
          "output_type": "stream",
          "name": "stdout",
          "text": [
            "2\n",
            "2\n",
            "1\n"
          ]
        }
      ]
    },
    {
      "cell_type": "code",
      "source": [
        "# unpacking \n",
        "y = ['pig','cow','horse','cow']\n",
        "a,b,c,d = y\n",
        "print(a,b,d)\n"
      ],
      "metadata": {
        "colab": {
          "base_uri": "https://localhost:8080/"
        },
        "id": "8vMWg2xfQOQW",
        "outputId": "e0c39b55-07a0-447b-812a-0a0a37dd552e"
      },
      "execution_count": 37,
      "outputs": [
        {
          "output_type": "stream",
          "name": "stdout",
          "text": [
            "pig cow cow\n"
          ]
        }
      ]
    },
    {
      "cell_type": "markdown",
      "source": [
        "**Lists**"
      ],
      "metadata": {
        "id": "6iTyInNmH9am"
      }
    },
    {
      "cell_type": "code",
      "source": [
        "# creating a new list\n",
        "x = list()\n",
        "y = ['a',25,'dog',8.4]\n",
        "tuplel = (10,20)\n",
        "z = list(tuplel)\n",
        "s = list(y)\n",
        "print(s)\n",
        "\n",
        "\n",
        "a = [m for m in range(8)]\n",
        "print(a)\n",
        "\n",
        "b = [i**2 for i in range(10) if i >4]\n",
        "print(b)"
      ],
      "metadata": {
        "colab": {
          "base_uri": "https://localhost:8080/"
        },
        "id": "-5dil81iS2nn",
        "outputId": "3df27ad0-6fec-45b9-e3d7-f1a006c9626d"
      },
      "execution_count": 2,
      "outputs": [
        {
          "output_type": "stream",
          "name": "stdout",
          "text": [
            "['a', 25, 'dog', 8.4]\n",
            "[0, 1, 2, 3, 4, 5, 6, 7]\n",
            "[25, 36, 49, 64, 81]\n"
          ]
        }
      ]
    },
    {
      "cell_type": "code",
      "source": [
        "x = [4,5,6,7,0]\n",
        "del(x[1])\n",
        "print(x)\n",
        "del(x)\n"
      ],
      "metadata": {
        "colab": {
          "base_uri": "https://localhost:8080/",
          "height": 264
        },
        "id": "JDklZg_Xyy9L",
        "outputId": "d0b941b1-9bdf-4423-96b7-7f90b9d62cd0"
      },
      "execution_count": 6,
      "outputs": [
        {
          "output_type": "stream",
          "name": "stdout",
          "text": [
            "[4, 6, 7, 0]\n"
          ]
        },
        {
          "output_type": "error",
          "ename": "NameError",
          "evalue": "ignored",
          "traceback": [
            "\u001b[0;31m---------------------------------------------------------------------------\u001b[0m",
            "\u001b[0;31mNameError\u001b[0m                                 Traceback (most recent call last)",
            "\u001b[0;32m<ipython-input-6-56e060580c48>\u001b[0m in \u001b[0;36m<module>\u001b[0;34m()\u001b[0m\n\u001b[1;32m      3\u001b[0m \u001b[0mprint\u001b[0m\u001b[0;34m(\u001b[0m\u001b[0mx\u001b[0m\u001b[0;34m)\u001b[0m\u001b[0;34m\u001b[0m\u001b[0;34m\u001b[0m\u001b[0m\n\u001b[1;32m      4\u001b[0m \u001b[0;32mdel\u001b[0m\u001b[0;34m(\u001b[0m\u001b[0mx\u001b[0m\u001b[0;34m)\u001b[0m\u001b[0;34m\u001b[0m\u001b[0;34m\u001b[0m\u001b[0m\n\u001b[0;32m----> 5\u001b[0;31m \u001b[0mprint\u001b[0m\u001b[0;34m(\u001b[0m\u001b[0mx\u001b[0m\u001b[0;34m)\u001b[0m\u001b[0;34m\u001b[0m\u001b[0;34m\u001b[0m\u001b[0m\n\u001b[0m",
            "\u001b[0;31mNameError\u001b[0m: name 'x' is not defined"
          ]
        }
      ]
    },
    {
      "cell_type": "code",
      "source": [
        "#append\n",
        "x = [ 3,4,5,6,7]\n",
        "x.append(0)\n",
        "print(x)"
      ],
      "metadata": {
        "colab": {
          "base_uri": "https://localhost:8080/"
        },
        "id": "3JjKVmmvCDEb",
        "outputId": "5e7f3d9b-12b8-410c-a5bc-2330de4959b5"
      },
      "execution_count": 1,
      "outputs": [
        {
          "output_type": "stream",
          "name": "stdout",
          "text": [
            "[3, 4, 5, 6, 7, 0]\n"
          ]
        }
      ]
    },
    {
      "cell_type": "code",
      "source": [
        "x = [5,6,7,8,9,6,7]\n",
        "x.pop()\n",
        "print(x)\n",
        "print(x.pop())\n",
        "\n",
        "x.remove(6)\n",
        "\n",
        "x.reverse()"
      ],
      "metadata": {
        "colab": {
          "base_uri": "https://localhost:8080/"
        },
        "id": "RJLYzkzWHw-4",
        "outputId": "d6d46b2c-973b-42f7-a41e-a67270cc76ae"
      },
      "execution_count": 3,
      "outputs": [
        {
          "output_type": "stream",
          "name": "stdout",
          "text": [
            "[5, 6, 7, 8, 9, 6]\n",
            "6\n"
          ]
        }
      ]
    },
    {
      "cell_type": "code",
      "source": [
        "x = [5,6,7,8,9,6,7]\n",
        "\n",
        "x.sort()\n",
        "\n",
        "print(x)\n",
        "\n",
        "#reverse sort\n",
        "\n",
        "x.sort(reverse=True)\n",
        "print(x)"
      ],
      "metadata": {
        "colab": {
          "base_uri": "https://localhost:8080/"
        },
        "id": "GsedvBpxIIqg",
        "outputId": "8d245017-1793-4e58-ee18-6019c838e515"
      },
      "execution_count": 5,
      "outputs": [
        {
          "output_type": "stream",
          "name": "stdout",
          "text": [
            "[5, 6, 6, 7, 7, 8, 9]\n",
            "[9, 8, 7, 7, 6, 6, 5]\n"
          ]
        }
      ]
    },
    {
      "cell_type": "code",
      "source": [
        "#Tuple(要有逗号)\n",
        "x = ()\n",
        "x = (1,2,3)\n",
        "x = 1,2,3\n",
        "x = 2,\n",
        "print(x,type(x))\n",
        "\n",
        "list1 = [2,4,6]\n",
        "x = tuple(list1)\n",
        "\n",
        "print(x,type(x))\n"
      ],
      "metadata": {
        "colab": {
          "base_uri": "https://localhost:8080/"
        },
        "id": "puHkkDt-IZOZ",
        "outputId": "5c25c8a2-37a6-47dc-c127-c40448f03d27"
      },
      "execution_count": 7,
      "outputs": [
        {
          "output_type": "stream",
          "name": "stdout",
          "text": [
            "(2,) <class 'tuple'>\n"
          ]
        }
      ]
    }
  ]
}